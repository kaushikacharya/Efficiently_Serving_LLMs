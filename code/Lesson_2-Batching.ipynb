{
 "cells": [
  {
   "cell_type": "markdown",
   "metadata": {},
   "source": [
    "# Lesson 2 - Batching\n",
    "\n",
    "In this lesson, we'll discuss the concept of \"batching\" in LLM inference.\n",
    "\n",
    "- What is batching?\n",
    "- Throughput vs latency"
   ]
  },
  {
   "cell_type": "markdown",
   "metadata": {},
   "source": [
    "## Import required packages and load the LLM"
   ]
  },
  {
   "cell_type": "code",
   "execution_count": 1,
   "metadata": {},
   "outputs": [
    {
     "name": "stderr",
     "output_type": "stream",
     "text": [
      "/home/kaushik/miniconda3/envs/py3_efficiently_serving_llms_course/lib/python3.11/site-packages/tqdm/auto.py:22: TqdmWarning: IProgress not found. Please update jupyter and ipywidgets. See https://ipywidgets.readthedocs.io/en/stable/user_install.html\n",
      "  from .autonotebook import tqdm as notebook_tqdm\n"
     ]
    }
   ],
   "source": [
    "import matplotlib.pyplot as plt\n",
    "import numpy as np\n",
    "import time\n",
    "import torch\n",
    "from transformers import AutoModelForCausalLM, AutoTokenizer\n",
    "from tqdm import tqdm"
   ]
  },
  {
   "cell_type": "code",
   "execution_count": 2,
   "metadata": {},
   "outputs": [
    {
     "name": "stderr",
     "output_type": "stream",
     "text": [
      "/home/kaushik/miniconda3/envs/py3_efficiently_serving_llms_course/lib/python3.11/site-packages/huggingface_hub/file_download.py:797: FutureWarning: `resume_download` is deprecated and will be removed in version 1.0.0. Downloads always resume when possible. If you want to force a new download, use `force_download=True`.\n",
      "  warnings.warn(\n",
      "/home/kaushik/miniconda3/envs/py3_efficiently_serving_llms_course/lib/python3.11/site-packages/huggingface_hub/file_download.py:797: FutureWarning: `resume_download` is deprecated and will be removed in version 1.0.0. Downloads always resume when possible. If you want to force a new download, use `force_download=True`.\n",
      "  warnings.warn(\n"
     ]
    }
   ],
   "source": [
    "model_name = \"gpt2\"\n",
    "\n",
    "tokenizer = AutoTokenizer.from_pretrained(model_name)\n",
    "model = AutoModelForCausalLM.from_pretrained(model_name)"
   ]
  },
  {
   "cell_type": "markdown",
   "metadata": {},
   "source": [
    "## Reuse KV-cache text generation function from Lesson 1\n",
    "- Use the same prompt as the previous lesson to verify everything is working as expected"
   ]
  },
  {
   "cell_type": "code",
   "execution_count": 3,
   "metadata": {},
   "outputs": [
    {
     "name": "stdout",
     "output_type": "stream",
     "text": [
      " fence and ran to the other side of the fence\n"
     ]
    }
   ],
   "source": [
    "prompt = \"The quick brown fox jumped over the\"\n",
    "inputs = tokenizer(prompt, return_tensors=\"pt\")\n",
    "\n",
    "def generate_token_with_past(inputs):\n",
    "    with torch.no_grad():\n",
    "        outputs = model(**inputs)\n",
    "    \n",
    "    logits = outputs.logits\n",
    "    last_logits = logits[0, -1, :]\n",
    "    next_token_id = last_logits.argmax()\n",
    "\n",
    "    return next_token_id, outputs.past_key_values\n",
    "\n",
    "def generate(inputs, max_tokens):\n",
    "    generated_tokens = []\n",
    "    next_inputs = inputs\n",
    "    \n",
    "    for _ in range(max_tokens):\n",
    "        next_token_id, past_key_values = generate_token_with_past(next_inputs)\n",
    "\n",
    "        next_inputs = {\n",
    "            \"input_ids\": next_token_id.reshape((1,1)),\n",
    "            \"attention_mask\": torch.cat(\n",
    "                [next_inputs[\"attention_mask\"], torch.tensor([[1]])],\n",
    "                dim=1\n",
    "            ),\n",
    "            \"past_key_values\": past_key_values\n",
    "        }\n",
    "\n",
    "        next_token = tokenizer.decode(next_token_id)\n",
    "        generated_tokens.append(next_token)\n",
    "\n",
    "    return \"\".join(generated_tokens)\n",
    "\n",
    "tokens = generate(inputs=inputs, max_tokens=10)\n",
    "print(tokens)"
   ]
  },
  {
   "cell_type": "markdown",
   "metadata": {},
   "source": [
    "## Add padding tokens to the model to prepare batches of prompts"
   ]
  },
  {
   "cell_type": "code",
   "execution_count": 4,
   "metadata": {},
   "outputs": [],
   "source": [
    "tokenizer.pad_token"
   ]
  },
  {
   "cell_type": "code",
   "execution_count": 5,
   "metadata": {},
   "outputs": [
    {
     "data": {
      "text/plain": [
       "'<|endoftext|>'"
      ]
     },
     "execution_count": 5,
     "metadata": {},
     "output_type": "execute_result"
    }
   ],
   "source": [
    "tokenizer.eos_token"
   ]
  },
  {
   "cell_type": "code",
   "execution_count": 6,
   "metadata": {},
   "outputs": [
    {
     "data": {
      "text/plain": [
       "GPT2Config {\n",
       "  \"_name_or_path\": \"gpt2\",\n",
       "  \"activation_function\": \"gelu_new\",\n",
       "  \"architectures\": [\n",
       "    \"GPT2LMHeadModel\"\n",
       "  ],\n",
       "  \"attn_pdrop\": 0.1,\n",
       "  \"bos_token_id\": 50256,\n",
       "  \"embd_pdrop\": 0.1,\n",
       "  \"eos_token_id\": 50256,\n",
       "  \"initializer_range\": 0.02,\n",
       "  \"layer_norm_epsilon\": 1e-05,\n",
       "  \"model_type\": \"gpt2\",\n",
       "  \"n_ctx\": 1024,\n",
       "  \"n_embd\": 768,\n",
       "  \"n_head\": 12,\n",
       "  \"n_inner\": null,\n",
       "  \"n_layer\": 12,\n",
       "  \"n_positions\": 1024,\n",
       "  \"reorder_and_upcast_attn\": false,\n",
       "  \"resid_pdrop\": 0.1,\n",
       "  \"scale_attn_by_inverse_layer_idx\": false,\n",
       "  \"scale_attn_weights\": true,\n",
       "  \"summary_activation\": null,\n",
       "  \"summary_first_dropout\": 0.1,\n",
       "  \"summary_proj_to_labels\": true,\n",
       "  \"summary_type\": \"cls_index\",\n",
       "  \"summary_use_proj\": true,\n",
       "  \"task_specific_params\": {\n",
       "    \"text-generation\": {\n",
       "      \"do_sample\": true,\n",
       "      \"max_length\": 50\n",
       "    }\n",
       "  },\n",
       "  \"transformers_version\": \"4.35.2\",\n",
       "  \"use_cache\": true,\n",
       "  \"vocab_size\": 50257\n",
       "}"
      ]
     },
     "execution_count": 6,
     "metadata": {},
     "output_type": "execute_result"
    }
   ],
   "source": [
    "model.config"
   ]
  },
  {
   "cell_type": "code",
   "execution_count": 7,
   "metadata": {},
   "outputs": [],
   "source": [
    "# Define PAD Token = EOS Token = 50256\n",
    "tokenizer.pad_token = tokenizer.eos_token\n",
    "model.config.pad_token_id = model.config.eos_token_id"
   ]
  },
  {
   "cell_type": "markdown",
   "metadata": {},
   "source": [
    "Pad on the left so we can append new tokens on the right"
   ]
  },
  {
   "cell_type": "code",
   "execution_count": 8,
   "metadata": {},
   "outputs": [
    {
     "data": {
      "text/plain": [
       "'right'"
      ]
     },
     "execution_count": 8,
     "metadata": {},
     "output_type": "execute_result"
    }
   ],
   "source": [
    "tokenizer.padding_side"
   ]
  },
  {
   "cell_type": "code",
   "execution_count": 9,
   "metadata": {},
   "outputs": [
    {
     "data": {
      "text/plain": [
       "'right'"
      ]
     },
     "execution_count": 9,
     "metadata": {},
     "output_type": "execute_result"
    }
   ],
   "source": [
    "tokenizer.truncation_side"
   ]
  },
  {
   "cell_type": "code",
   "execution_count": 10,
   "metadata": {},
   "outputs": [
    {
     "data": {
      "text/plain": [
       "GPT2TokenizerFast(name_or_path='gpt2', vocab_size=50257, model_max_length=1024, is_fast=True, padding_side='right', truncation_side='right', special_tokens={'bos_token': '<|endoftext|>', 'eos_token': '<|endoftext|>', 'unk_token': '<|endoftext|>', 'pad_token': '<|endoftext|>'}, clean_up_tokenization_spaces=True),  added_tokens_decoder={\n",
       "\t50256: AddedToken(\"<|endoftext|>\", rstrip=False, lstrip=False, single_word=False, normalized=True, special=True),\n",
       "}"
      ]
     },
     "execution_count": 10,
     "metadata": {},
     "output_type": "execute_result"
    }
   ],
   "source": [
    "tokenizer"
   ]
  },
  {
   "cell_type": "code",
   "execution_count": 11,
   "metadata": {},
   "outputs": [],
   "source": [
    "tokenizer.padding_side = \"left\"\n",
    "tokenizer.truncation_side = \"left\""
   ]
  },
  {
   "cell_type": "markdown",
   "metadata": {},
   "source": [
    "- Tokenize list of prompts\n",
    "- Add padding so that all prompts have the same number of tokens as the longest prompt"
   ]
  },
  {
   "cell_type": "code",
   "execution_count": 12,
   "metadata": {},
   "outputs": [],
   "source": [
    "# multiple prompts of varying lengths to send\n",
    "# to the model at once\n",
    "prompts = [\n",
    "    \"The quick brown fox jumped over the\",\n",
    "    \"The rain in Spain falls\",\n",
    "    \"What comes up must\",\n",
    "]\n",
    "\n",
    "# note: padding=True ensures the padding token\n",
    "# will be inserted into the tokenized tensors\n",
    "inputs = tokenizer(prompts, padding=True, return_tensors=\"pt\")"
   ]
  },
  {
   "cell_type": "markdown",
   "metadata": {},
   "source": [
    "Let's check the input_ids"
   ]
  },
  {
   "cell_type": "code",
   "execution_count": 13,
   "metadata": {},
   "outputs": [
    {
     "name": "stdout",
     "output_type": "stream",
     "text": [
      "input_ids: tensor([[  464,  2068,  7586, 21831, 11687,   625,   262],\n",
      "        [50256, 50256,   464,  6290,   287,  8602,  8953],\n",
      "        [50256, 50256, 50256,  2061,  2058,   510,  1276]])\n",
      "shape: torch.Size([3, 7])\n"
     ]
    }
   ],
   "source": [
    "print(f\"input_ids: {inputs['input_ids']}\")\n",
    "print(f\"shape: {inputs['attention_mask'].shape}\")"
   ]
  },
  {
   "cell_type": "markdown",
   "metadata": {},
   "source": [
    "Let's check the attention_mask"
   ]
  },
  {
   "cell_type": "code",
   "execution_count": 14,
   "metadata": {},
   "outputs": [
    {
     "name": "stdout",
     "output_type": "stream",
     "text": [
      "attention_mask: tensor([[1, 1, 1, 1, 1, 1, 1],\n",
      "        [0, 0, 1, 1, 1, 1, 1],\n",
      "        [0, 0, 0, 1, 1, 1, 1]])\n",
      "shape: torch.Size([3, 7])\n"
     ]
    }
   ],
   "source": [
    "print(f\"attention_mask: {inputs['attention_mask']}\")\n",
    "print(f\"shape: {inputs['attention_mask'].shape}\")"
   ]
  },
  {
   "cell_type": "markdown",
   "metadata": {},
   "source": [
    "- Add position ids to track original order of tokens in each prompt\n",
    "- Padding tokens are set to `1` and then first real token starts with position `0`"
   ]
  },
  {
   "cell_type": "code",
   "execution_count": 15,
   "metadata": {},
   "outputs": [
    {
     "data": {
      "text/plain": [
       "tensor([[ 0,  1,  2,  3,  4,  5,  6],\n",
       "        [-1, -1,  0,  1,  2,  3,  4],\n",
       "        [-1, -1, -1,  0,  1,  2,  3]])"
      ]
     },
     "execution_count": 15,
     "metadata": {},
     "output_type": "execute_result"
    }
   ],
   "source": [
    "# position_ids tell the transformer the ordinal position\n",
    "# of each token in the input sequence\n",
    "# for single input inference, this is just [0 .. n]\n",
    "# for n tokens, but for batch inference,\n",
    "# we need to 0 out the padding tokens at the start of the sequence\n",
    "attention_mask = inputs[\"attention_mask\"]\n",
    "position_ids = attention_mask.long().cumsum(-1) - 1\n",
    "position_ids"
   ]
  },
  {
   "cell_type": "code",
   "execution_count": 16,
   "metadata": {},
   "outputs": [
    {
     "data": {
      "text/plain": [
       "tensor([[0, 1, 2, 3, 4, 5, 6],\n",
       "        [1, 1, 0, 1, 2, 3, 4],\n",
       "        [1, 1, 1, 0, 1, 2, 3]])"
      ]
     },
     "execution_count": 16,
     "metadata": {},
     "output_type": "execute_result"
    }
   ],
   "source": [
    "position_ids.masked_fill_(attention_mask==0, 1)"
   ]
  },
  {
   "cell_type": "markdown",
   "metadata": {},
   "source": [
    "- KA: Let's check how position_ids would be added to next_inputs"
   ]
  },
  {
   "cell_type": "code",
   "execution_count": 17,
   "metadata": {},
   "outputs": [
    {
     "data": {
      "text/plain": [
       "tensor([6, 4, 3])"
      ]
     },
     "execution_count": 17,
     "metadata": {},
     "output_type": "execute_result"
    }
   ],
   "source": [
    "position_ids[:, -1]"
   ]
  },
  {
   "cell_type": "code",
   "execution_count": 18,
   "metadata": {},
   "outputs": [
    {
     "data": {
      "text/plain": [
       "tensor([[7],\n",
       "        [5],\n",
       "        [4]])"
      ]
     },
     "execution_count": 18,
     "metadata": {},
     "output_type": "execute_result"
    }
   ],
   "source": [
    "# Reshape and increment\n",
    "position_ids[:, -1].unsqueeze(-1) + 1"
   ]
  },
  {
   "cell_type": "code",
   "execution_count": 19,
   "metadata": {},
   "outputs": [
    {
     "data": {
      "text/plain": [
       "torch.Size([3, 1])"
      ]
     },
     "execution_count": 19,
     "metadata": {},
     "output_type": "execute_result"
    }
   ],
   "source": [
    "position_ids[:, -1].unsqueeze(-1).shape"
   ]
  },
  {
   "cell_type": "markdown",
   "metadata": {},
   "source": [
    "- Pass tokens to model to calculate logits"
   ]
  },
  {
   "cell_type": "code",
   "execution_count": 20,
   "metadata": {},
   "outputs": [],
   "source": [
    "# same as before, but include the position_ids\n",
    "with torch.no_grad():\n",
    "    outputs = model(position_ids=position_ids, **inputs)\n",
    "\n",
    "logits = outputs.logits"
   ]
  },
  {
   "cell_type": "markdown",
   "metadata": {},
   "source": [
    "- Retrieve most likely token for each prompt"
   ]
  },
  {
   "cell_type": "code",
   "execution_count": 21,
   "metadata": {},
   "outputs": [],
   "source": [
    "last_logits = logits[:, -1, :]\n",
    "next_token_ids = last_logits.argmax(dim=1)"
   ]
  },
  {
   "cell_type": "markdown",
   "metadata": {},
   "source": [
    "- Print the next token ids"
   ]
  },
  {
   "cell_type": "code",
   "execution_count": 22,
   "metadata": {},
   "outputs": [
    {
     "name": "stdout",
     "output_type": "stream",
     "text": [
      "tensor([13990,   319,   307])\n"
     ]
    }
   ],
   "source": [
    "print(next_token_ids)"
   ]
  },
  {
   "cell_type": "markdown",
   "metadata": {},
   "source": [
    "- Convert the token ids into strings"
   ]
  },
  {
   "cell_type": "code",
   "execution_count": 23,
   "metadata": {},
   "outputs": [
    {
     "data": {
      "text/plain": [
       "[' fence', ' on', ' be']"
      ]
     },
     "execution_count": 23,
     "metadata": {},
     "output_type": "execute_result"
    }
   ],
   "source": [
    "next_tokens = tokenizer.batch_decode(next_token_ids)\n",
    "next_tokens"
   ]
  },
  {
   "cell_type": "markdown",
   "metadata": {},
   "source": [
    "### KA: Let's analyze a) past_key_values and b) input_ids_length \n",
    "\n",
    "https://huggingface.co/docs/transformers/main/en/model_doc/gpt2#transformers.GPT2Model.forward.input_ids"
   ]
  },
  {
   "cell_type": "code",
   "execution_count": 24,
   "metadata": {},
   "outputs": [
    {
     "data": {
      "text/plain": [
       "12"
      ]
     },
     "execution_count": 24,
     "metadata": {},
     "output_type": "execute_result"
    }
   ],
   "source": [
    "# Number of layers\n",
    "len(outputs.past_key_values)"
   ]
  },
  {
   "cell_type": "code",
   "execution_count": 25,
   "metadata": {},
   "outputs": [
    {
     "data": {
      "text/plain": [
       "2"
      ]
     },
     "execution_count": 25,
     "metadata": {},
     "output_type": "execute_result"
    }
   ],
   "source": [
    "# Key, Value tuple of one of the layer\n",
    "len(outputs.past_key_values[0])"
   ]
  },
  {
   "cell_type": "code",
   "execution_count": 26,
   "metadata": {},
   "outputs": [
    {
     "data": {
      "text/plain": [
       "torch.Size([3, 12, 7, 64])"
      ]
     },
     "execution_count": 26,
     "metadata": {},
     "output_type": "execute_result"
    }
   ],
   "source": [
    "outputs.past_key_values[0][0].shape"
   ]
  },
  {
   "cell_type": "code",
   "execution_count": 27,
   "metadata": {},
   "outputs": [
    {
     "data": {
      "text/plain": [
       "torch.Size([3, 12, 7, 64])"
      ]
     },
     "execution_count": 27,
     "metadata": {},
     "output_type": "execute_result"
    }
   ],
   "source": [
    "outputs.past_key_values[0][1].shape"
   ]
  },
  {
   "cell_type": "markdown",
   "metadata": {},
   "source": [
    "## Let's put it all together!\n",
    " - Generate n tokens with past"
   ]
  },
  {
   "cell_type": "code",
   "execution_count": 28,
   "metadata": {},
   "outputs": [],
   "source": [
    "def generate_batch_tokens_with_past(inputs):\n",
    "    with torch.no_grad():\n",
    "        outputs = model(**inputs)\n",
    "    \n",
    "    logits = outputs.logits\n",
    "    last_logits = logits[:, -1, :]\n",
    "    next_token_ids = last_logits.argmax(dim=1)\n",
    "\n",
    "    return next_token_ids, outputs.past_key_values"
   ]
  },
  {
   "cell_type": "markdown",
   "metadata": {},
   "source": [
    "- Generate all tokens for some max tokens"
   ]
  },
  {
   "cell_type": "code",
   "execution_count": 29,
   "metadata": {},
   "outputs": [],
   "source": [
    "def generate_batch(inputs, max_tokens):\n",
    "    # create a list of tokens for every input in the batch\n",
    "    generated_tokens = [\n",
    "        [] for _ in range(inputs[\"input_ids\"].shape[0])\n",
    "    ]\n",
    "\n",
    "    attention_mask = inputs[\"attention_mask\"]\n",
    "    position_ids = attention_mask.long().cumsum(-1) - 1\n",
    "    position_ids.masked_fill_(attention_mask==0, 1)\n",
    "\n",
    "    next_inputs = {\n",
    "        \"position_ids\": position_ids,\n",
    "        **inputs\n",
    "    }\n",
    "\n",
    "    for _ in range(max_tokens):\n",
    "        next_token_ids, past_key_values = generate_batch_tokens_with_past(next_inputs)\n",
    "\n",
    "        next_inputs = {\n",
    "            \"input_ids\": next_token_ids.reshape((-1, 1)),\n",
    "            \"position_ids\": next_inputs[\"position_ids\"][:, -1].unsqueeze(-1) + 1,\n",
    "            \"attention_mask\": torch.cat([\n",
    "                next_inputs[\"attention_mask\"],\n",
    "                torch.ones((next_token_ids.shape[0], 1))\n",
    "            ], dim=1),\n",
    "            \"past_key_values\": past_key_values\n",
    "        }\n",
    "\n",
    "        print(f\"input_ids shape: {next_inputs['input_ids'].shape}\")\n",
    "        print(f\"past_key_values[0][0].shape: {past_key_values[0][0].shape}\")\n",
    "        print(f\"attention_mask shape: {next_inputs['attention_mask'].shape}\\n\\n\")\n",
    "\n",
    "        next_tokens = tokenizer.batch_decode(next_token_ids)\n",
    "\n",
    "        for i, token in enumerate(next_tokens):\n",
    "            generated_tokens[i].append(token)\n",
    "\n",
    "    return [\"\".join(tokens) for tokens in generated_tokens]"
   ]
  },
  {
   "cell_type": "markdown",
   "metadata": {},
   "source": [
    "- Call the generate_batch function and print out the generated tokens"
   ]
  },
  {
   "cell_type": "code",
   "execution_count": 30,
   "metadata": {},
   "outputs": [
    {
     "name": "stdout",
     "output_type": "stream",
     "text": [
      "input_ids shape: torch.Size([3, 1])\n",
      "past_key_values[0][0].shape: torch.Size([3, 12, 7, 64])\n",
      "attention_mask shape: torch.Size([3, 8])\n",
      "\n",
      "\n",
      "input_ids shape: torch.Size([3, 1])\n",
      "past_key_values[0][0].shape: torch.Size([3, 12, 8, 64])\n",
      "attention_mask shape: torch.Size([3, 9])\n",
      "\n",
      "\n",
      "input_ids shape: torch.Size([3, 1])\n",
      "past_key_values[0][0].shape: torch.Size([3, 12, 9, 64])\n",
      "attention_mask shape: torch.Size([3, 10])\n",
      "\n",
      "\n",
      "input_ids shape: torch.Size([3, 1])\n",
      "past_key_values[0][0].shape: torch.Size([3, 12, 10, 64])\n",
      "attention_mask shape: torch.Size([3, 11])\n",
      "\n",
      "\n",
      "input_ids shape: torch.Size([3, 1])\n",
      "past_key_values[0][0].shape: torch.Size([3, 12, 11, 64])\n",
      "attention_mask shape: torch.Size([3, 12])\n",
      "\n",
      "\n",
      "input_ids shape: torch.Size([3, 1])\n",
      "past_key_values[0][0].shape: torch.Size([3, 12, 12, 64])\n",
      "attention_mask shape: torch.Size([3, 13])\n",
      "\n",
      "\n",
      "input_ids shape: torch.Size([3, 1])\n",
      "past_key_values[0][0].shape: torch.Size([3, 12, 13, 64])\n",
      "attention_mask shape: torch.Size([3, 14])\n",
      "\n",
      "\n",
      "input_ids shape: torch.Size([3, 1])\n",
      "past_key_values[0][0].shape: torch.Size([3, 12, 14, 64])\n",
      "attention_mask shape: torch.Size([3, 15])\n",
      "\n",
      "\n",
      "input_ids shape: torch.Size([3, 1])\n",
      "past_key_values[0][0].shape: torch.Size([3, 12, 15, 64])\n",
      "attention_mask shape: torch.Size([3, 16])\n",
      "\n",
      "\n",
      "input_ids shape: torch.Size([3, 1])\n",
      "past_key_values[0][0].shape: torch.Size([3, 12, 16, 64])\n",
      "attention_mask shape: torch.Size([3, 17])\n",
      "\n",
      "\n"
     ]
    }
   ],
   "source": [
    "generated_tokens = generate_batch(inputs, max_tokens=10)"
   ]
  },
  {
   "cell_type": "code",
   "execution_count": 31,
   "metadata": {},
   "outputs": [
    {
     "name": "stdout",
     "output_type": "stream",
     "text": [
      "The quick brown fox jumped over the \u001b[31m fence and ran to the other side of the fence\u001b[0m\n",
      "\n",
      "The rain in Spain falls \u001b[31m on the first day of the month, and the\u001b[0m\n",
      "\n",
      "What comes up must \u001b[31m be a good idea.\n",
      "\n",
      "\"I think\u001b[0m\n",
      "\n"
     ]
    }
   ],
   "source": [
    "for prompt, generated in zip(prompts, generated_tokens):\n",
    "    print(prompt, f\"\\x1b[31m{generated}\\x1b[0m\\n\")"
   ]
  },
  {
   "cell_type": "markdown",
   "metadata": {},
   "source": [
    "## Throughput vs Latency\n",
    "\n",
    "- Explore the effect of batching on latency (how long it takes to generate each token). \n",
    "- Observe the fundamental tradeoff that exists between throughput and latency."
   ]
  },
  {
   "cell_type": "code",
   "execution_count": 32,
   "metadata": {},
   "outputs": [
    {
     "name": "stdout",
     "output_type": "stream",
     "text": [
      "Batch size: 1\n",
      "input_ids shape: torch.Size([1, 1])\n",
      "past_key_values[0][0].shape: torch.Size([1, 12, 7, 64])\n",
      "attention_mask shape: torch.Size([1, 8])\n",
      "\n",
      "\n",
      "input_ids shape: torch.Size([1, 1])\n",
      "past_key_values[0][0].shape: torch.Size([1, 12, 8, 64])\n",
      "attention_mask shape: torch.Size([1, 9])\n",
      "\n",
      "\n",
      "input_ids shape: torch.Size([1, 1])\n",
      "past_key_values[0][0].shape: torch.Size([1, 12, 9, 64])\n",
      "attention_mask shape: torch.Size([1, 10])\n",
      "\n",
      "\n",
      "input_ids shape: torch.Size([1, 1])\n",
      "past_key_values[0][0].shape: torch.Size([1, 12, 10, 64])\n",
      "attention_mask shape: torch.Size([1, 11])\n",
      "\n",
      "\n",
      "input_ids shape: torch.Size([1, 1])\n",
      "past_key_values[0][0].shape: torch.Size([1, 12, 11, 64])\n",
      "attention_mask shape: torch.Size([1, 12])\n",
      "\n",
      "\n",
      "input_ids shape: torch.Size([1, 1])\n",
      "past_key_values[0][0].shape: torch.Size([1, 12, 12, 64])\n",
      "attention_mask shape: torch.Size([1, 13])\n",
      "\n",
      "\n",
      "input_ids shape: torch.Size([1, 1])\n",
      "past_key_values[0][0].shape: torch.Size([1, 12, 13, 64])\n",
      "attention_mask shape: torch.Size([1, 14])\n",
      "\n",
      "\n",
      "input_ids shape: torch.Size([1, 1])\n",
      "past_key_values[0][0].shape: torch.Size([1, 12, 14, 64])\n",
      "attention_mask shape: torch.Size([1, 15])\n",
      "\n",
      "\n",
      "input_ids shape: torch.Size([1, 1])\n",
      "past_key_values[0][0].shape: torch.Size([1, 12, 15, 64])\n",
      "attention_mask shape: torch.Size([1, 16])\n",
      "\n",
      "\n",
      "input_ids shape: torch.Size([1, 1])\n",
      "past_key_values[0][0].shape: torch.Size([1, 12, 16, 64])\n",
      "attention_mask shape: torch.Size([1, 17])\n",
      "\n",
      "\n",
      "duration: 0.18633437156677246\n",
      "throughput: 53.66696394184325\n",
      "avg latency: 0.018633437156677247\n",
      "\n",
      "Batch size: 2\n",
      "input_ids shape: torch.Size([2, 1])\n",
      "past_key_values[0][0].shape: torch.Size([2, 12, 7, 64])\n",
      "attention_mask shape: torch.Size([2, 8])\n",
      "\n",
      "\n",
      "input_ids shape: torch.Size([2, 1])\n",
      "past_key_values[0][0].shape: torch.Size([2, 12, 8, 64])\n",
      "attention_mask shape: torch.Size([2, 9])\n",
      "\n",
      "\n",
      "input_ids shape: torch.Size([2, 1])\n",
      "past_key_values[0][0].shape: torch.Size([2, 12, 9, 64])\n",
      "attention_mask shape: torch.Size([2, 10])\n",
      "\n",
      "\n",
      "input_ids shape: torch.Size([2, 1])\n",
      "past_key_values[0][0].shape: torch.Size([2, 12, 10, 64])\n",
      "attention_mask shape: torch.Size([2, 11])\n",
      "\n",
      "\n",
      "input_ids shape: torch.Size([2, 1])\n",
      "past_key_values[0][0].shape: torch.Size([2, 12, 11, 64])\n",
      "attention_mask shape: torch.Size([2, 12])\n",
      "\n",
      "\n",
      "input_ids shape: torch.Size([2, 1])\n",
      "past_key_values[0][0].shape: torch.Size([2, 12, 12, 64])\n",
      "attention_mask shape: torch.Size([2, 13])\n",
      "\n",
      "\n",
      "input_ids shape: torch.Size([2, 1])\n",
      "past_key_values[0][0].shape: torch.Size([2, 12, 13, 64])\n",
      "attention_mask shape: torch.Size([2, 14])\n",
      "\n",
      "\n",
      "input_ids shape: torch.Size([2, 1])\n",
      "past_key_values[0][0].shape: torch.Size([2, 12, 14, 64])\n",
      "attention_mask shape: torch.Size([2, 15])\n",
      "\n",
      "\n",
      "input_ids shape: torch.Size([2, 1])\n",
      "past_key_values[0][0].shape: torch.Size([2, 12, 15, 64])\n",
      "attention_mask shape: torch.Size([2, 16])\n",
      "\n",
      "\n",
      "input_ids shape: torch.Size([2, 1])\n",
      "past_key_values[0][0].shape: torch.Size([2, 12, 16, 64])\n",
      "attention_mask shape: torch.Size([2, 17])\n",
      "\n",
      "\n",
      "duration: 0.23272919654846191\n",
      "throughput: 85.93678961047476\n",
      "avg latency: 0.02327291965484619\n",
      "\n",
      "Batch size: 4\n",
      "input_ids shape: torch.Size([4, 1])\n",
      "past_key_values[0][0].shape: torch.Size([4, 12, 7, 64])\n",
      "attention_mask shape: torch.Size([4, 8])\n",
      "\n",
      "\n",
      "input_ids shape: torch.Size([4, 1])\n",
      "past_key_values[0][0].shape: torch.Size([4, 12, 8, 64])\n",
      "attention_mask shape: torch.Size([4, 9])\n",
      "\n",
      "\n",
      "input_ids shape: torch.Size([4, 1])\n",
      "past_key_values[0][0].shape: torch.Size([4, 12, 9, 64])\n",
      "attention_mask shape: torch.Size([4, 10])\n",
      "\n",
      "\n",
      "input_ids shape: torch.Size([4, 1])\n",
      "past_key_values[0][0].shape: torch.Size([4, 12, 10, 64])\n",
      "attention_mask shape: torch.Size([4, 11])\n",
      "\n",
      "\n",
      "input_ids shape: torch.Size([4, 1])\n",
      "past_key_values[0][0].shape: torch.Size([4, 12, 11, 64])\n",
      "attention_mask shape: torch.Size([4, 12])\n",
      "\n",
      "\n",
      "input_ids shape: torch.Size([4, 1])\n",
      "past_key_values[0][0].shape: torch.Size([4, 12, 12, 64])\n",
      "attention_mask shape: torch.Size([4, 13])\n",
      "\n",
      "\n",
      "input_ids shape: torch.Size([4, 1])\n",
      "past_key_values[0][0].shape: torch.Size([4, 12, 13, 64])\n",
      "attention_mask shape: torch.Size([4, 14])\n",
      "\n",
      "\n",
      "input_ids shape: torch.Size([4, 1])\n",
      "past_key_values[0][0].shape: torch.Size([4, 12, 14, 64])\n",
      "attention_mask shape: torch.Size([4, 15])\n",
      "\n",
      "\n",
      "input_ids shape: torch.Size([4, 1])\n",
      "past_key_values[0][0].shape: torch.Size([4, 12, 15, 64])\n",
      "attention_mask shape: torch.Size([4, 16])\n",
      "\n",
      "\n",
      "input_ids shape: torch.Size([4, 1])\n",
      "past_key_values[0][0].shape: torch.Size([4, 12, 16, 64])\n",
      "attention_mask shape: torch.Size([4, 17])\n",
      "\n",
      "\n",
      "duration: 0.2377779483795166\n",
      "throughput: 168.22417836727286\n",
      "avg latency: 0.02377779483795166\n",
      "\n",
      "Batch size: 8\n",
      "input_ids shape: torch.Size([8, 1])\n",
      "past_key_values[0][0].shape: torch.Size([8, 12, 7, 64])\n",
      "attention_mask shape: torch.Size([8, 8])\n",
      "\n",
      "\n",
      "input_ids shape: torch.Size([8, 1])\n",
      "past_key_values[0][0].shape: torch.Size([8, 12, 8, 64])\n",
      "attention_mask shape: torch.Size([8, 9])\n",
      "\n",
      "\n",
      "input_ids shape: torch.Size([8, 1])\n",
      "past_key_values[0][0].shape: torch.Size([8, 12, 9, 64])\n",
      "attention_mask shape: torch.Size([8, 10])\n",
      "\n",
      "\n",
      "input_ids shape: torch.Size([8, 1])\n",
      "past_key_values[0][0].shape: torch.Size([8, 12, 10, 64])\n",
      "attention_mask shape: torch.Size([8, 11])\n",
      "\n",
      "\n",
      "input_ids shape: torch.Size([8, 1])\n",
      "past_key_values[0][0].shape: torch.Size([8, 12, 11, 64])\n",
      "attention_mask shape: torch.Size([8, 12])\n",
      "\n",
      "\n",
      "input_ids shape: torch.Size([8, 1])\n",
      "past_key_values[0][0].shape: torch.Size([8, 12, 12, 64])\n",
      "attention_mask shape: torch.Size([8, 13])\n",
      "\n",
      "\n",
      "input_ids shape: torch.Size([8, 1])\n",
      "past_key_values[0][0].shape: torch.Size([8, 12, 13, 64])\n",
      "attention_mask shape: torch.Size([8, 14])\n",
      "\n",
      "\n",
      "input_ids shape: torch.Size([8, 1])\n",
      "past_key_values[0][0].shape: torch.Size([8, 12, 14, 64])\n",
      "attention_mask shape: torch.Size([8, 15])\n",
      "\n",
      "\n",
      "input_ids shape: torch.Size([8, 1])\n",
      "past_key_values[0][0].shape: torch.Size([8, 12, 15, 64])\n",
      "attention_mask shape: torch.Size([8, 16])\n",
      "\n",
      "\n",
      "input_ids shape: torch.Size([8, 1])\n",
      "past_key_values[0][0].shape: torch.Size([8, 12, 16, 64])\n",
      "attention_mask shape: torch.Size([8, 17])\n",
      "\n",
      "\n",
      "duration: 0.29765772819519043\n",
      "throughput: 268.76506948121175\n",
      "avg latency: 0.029765772819519042\n",
      "\n",
      "Batch size: 16\n",
      "input_ids shape: torch.Size([16, 1])\n",
      "past_key_values[0][0].shape: torch.Size([16, 12, 7, 64])\n",
      "attention_mask shape: torch.Size([16, 8])\n",
      "\n",
      "\n",
      "input_ids shape: torch.Size([16, 1])\n",
      "past_key_values[0][0].shape: torch.Size([16, 12, 8, 64])\n",
      "attention_mask shape: torch.Size([16, 9])\n",
      "\n",
      "\n",
      "input_ids shape: torch.Size([16, 1])\n",
      "past_key_values[0][0].shape: torch.Size([16, 12, 9, 64])\n",
      "attention_mask shape: torch.Size([16, 10])\n",
      "\n",
      "\n",
      "input_ids shape: torch.Size([16, 1])\n",
      "past_key_values[0][0].shape: torch.Size([16, 12, 10, 64])\n",
      "attention_mask shape: torch.Size([16, 11])\n",
      "\n",
      "\n",
      "input_ids shape: torch.Size([16, 1])\n",
      "past_key_values[0][0].shape: torch.Size([16, 12, 11, 64])\n",
      "attention_mask shape: torch.Size([16, 12])\n",
      "\n",
      "\n",
      "input_ids shape: torch.Size([16, 1])\n",
      "past_key_values[0][0].shape: torch.Size([16, 12, 12, 64])\n",
      "attention_mask shape: torch.Size([16, 13])\n",
      "\n",
      "\n",
      "input_ids shape: torch.Size([16, 1])\n",
      "past_key_values[0][0].shape: torch.Size([16, 12, 13, 64])\n",
      "attention_mask shape: torch.Size([16, 14])\n",
      "\n",
      "\n",
      "input_ids shape: torch.Size([16, 1])\n",
      "past_key_values[0][0].shape: torch.Size([16, 12, 14, 64])\n",
      "attention_mask shape: torch.Size([16, 15])\n",
      "\n",
      "\n",
      "input_ids shape: torch.Size([16, 1])\n",
      "past_key_values[0][0].shape: torch.Size([16, 12, 15, 64])\n",
      "attention_mask shape: torch.Size([16, 16])\n",
      "\n",
      "\n",
      "input_ids shape: torch.Size([16, 1])\n",
      "past_key_values[0][0].shape: torch.Size([16, 12, 16, 64])\n",
      "attention_mask shape: torch.Size([16, 17])\n",
      "\n",
      "\n",
      "duration: 0.3914337158203125\n",
      "throughput: 408.753751997817\n",
      "avg latency: 0.03914337158203125\n",
      "\n",
      "Batch size: 32\n",
      "input_ids shape: torch.Size([32, 1])\n",
      "past_key_values[0][0].shape: torch.Size([32, 12, 7, 64])\n",
      "attention_mask shape: torch.Size([32, 8])\n",
      "\n",
      "\n",
      "input_ids shape: torch.Size([32, 1])\n",
      "past_key_values[0][0].shape: torch.Size([32, 12, 8, 64])\n",
      "attention_mask shape: torch.Size([32, 9])\n",
      "\n",
      "\n",
      "input_ids shape: torch.Size([32, 1])\n",
      "past_key_values[0][0].shape: torch.Size([32, 12, 9, 64])\n",
      "attention_mask shape: torch.Size([32, 10])\n",
      "\n",
      "\n",
      "input_ids shape: torch.Size([32, 1])\n",
      "past_key_values[0][0].shape: torch.Size([32, 12, 10, 64])\n",
      "attention_mask shape: torch.Size([32, 11])\n",
      "\n",
      "\n",
      "input_ids shape: torch.Size([32, 1])\n",
      "past_key_values[0][0].shape: torch.Size([32, 12, 11, 64])\n",
      "attention_mask shape: torch.Size([32, 12])\n",
      "\n",
      "\n",
      "input_ids shape: torch.Size([32, 1])\n",
      "past_key_values[0][0].shape: torch.Size([32, 12, 12, 64])\n",
      "attention_mask shape: torch.Size([32, 13])\n",
      "\n",
      "\n",
      "input_ids shape: torch.Size([32, 1])\n",
      "past_key_values[0][0].shape: torch.Size([32, 12, 13, 64])\n",
      "attention_mask shape: torch.Size([32, 14])\n",
      "\n",
      "\n",
      "input_ids shape: torch.Size([32, 1])\n",
      "past_key_values[0][0].shape: torch.Size([32, 12, 14, 64])\n",
      "attention_mask shape: torch.Size([32, 15])\n",
      "\n",
      "\n",
      "input_ids shape: torch.Size([32, 1])\n",
      "past_key_values[0][0].shape: torch.Size([32, 12, 15, 64])\n",
      "attention_mask shape: torch.Size([32, 16])\n",
      "\n",
      "\n",
      "input_ids shape: torch.Size([32, 1])\n",
      "past_key_values[0][0].shape: torch.Size([32, 12, 16, 64])\n",
      "attention_mask shape: torch.Size([32, 17])\n",
      "\n",
      "\n",
      "duration: 0.6239607334136963\n",
      "throughput: 512.8527852213974\n",
      "avg latency: 0.06239607334136963\n",
      "\n",
      "Batch size: 64\n",
      "input_ids shape: torch.Size([64, 1])\n",
      "past_key_values[0][0].shape: torch.Size([64, 12, 7, 64])\n",
      "attention_mask shape: torch.Size([64, 8])\n",
      "\n",
      "\n",
      "input_ids shape: torch.Size([64, 1])\n",
      "past_key_values[0][0].shape: torch.Size([64, 12, 8, 64])\n",
      "attention_mask shape: torch.Size([64, 9])\n",
      "\n",
      "\n",
      "input_ids shape: torch.Size([64, 1])\n",
      "past_key_values[0][0].shape: torch.Size([64, 12, 9, 64])\n",
      "attention_mask shape: torch.Size([64, 10])\n",
      "\n",
      "\n",
      "input_ids shape: torch.Size([64, 1])\n",
      "past_key_values[0][0].shape: torch.Size([64, 12, 10, 64])\n",
      "attention_mask shape: torch.Size([64, 11])\n",
      "\n",
      "\n",
      "input_ids shape: torch.Size([64, 1])\n",
      "past_key_values[0][0].shape: torch.Size([64, 12, 11, 64])\n",
      "attention_mask shape: torch.Size([64, 12])\n",
      "\n",
      "\n",
      "input_ids shape: torch.Size([64, 1])\n",
      "past_key_values[0][0].shape: torch.Size([64, 12, 12, 64])\n",
      "attention_mask shape: torch.Size([64, 13])\n",
      "\n",
      "\n",
      "input_ids shape: torch.Size([64, 1])\n",
      "past_key_values[0][0].shape: torch.Size([64, 12, 13, 64])\n",
      "attention_mask shape: torch.Size([64, 14])\n",
      "\n",
      "\n",
      "input_ids shape: torch.Size([64, 1])\n",
      "past_key_values[0][0].shape: torch.Size([64, 12, 14, 64])\n",
      "attention_mask shape: torch.Size([64, 15])\n",
      "\n",
      "\n",
      "input_ids shape: torch.Size([64, 1])\n",
      "past_key_values[0][0].shape: torch.Size([64, 12, 15, 64])\n",
      "attention_mask shape: torch.Size([64, 16])\n",
      "\n",
      "\n",
      "input_ids shape: torch.Size([64, 1])\n",
      "past_key_values[0][0].shape: torch.Size([64, 12, 16, 64])\n",
      "attention_mask shape: torch.Size([64, 17])\n",
      "\n",
      "\n",
      "duration: 1.1484625339508057\n",
      "throughput: 557.2667641131899\n",
      "avg latency: 0.11484625339508056\n",
      "\n",
      "Batch size: 128\n",
      "input_ids shape: torch.Size([128, 1])\n",
      "past_key_values[0][0].shape: torch.Size([128, 12, 7, 64])\n",
      "attention_mask shape: torch.Size([128, 8])\n",
      "\n",
      "\n",
      "input_ids shape: torch.Size([128, 1])\n",
      "past_key_values[0][0].shape: torch.Size([128, 12, 8, 64])\n",
      "attention_mask shape: torch.Size([128, 9])\n",
      "\n",
      "\n",
      "input_ids shape: torch.Size([128, 1])\n",
      "past_key_values[0][0].shape: torch.Size([128, 12, 9, 64])\n",
      "attention_mask shape: torch.Size([128, 10])\n",
      "\n",
      "\n",
      "input_ids shape: torch.Size([128, 1])\n",
      "past_key_values[0][0].shape: torch.Size([128, 12, 10, 64])\n",
      "attention_mask shape: torch.Size([128, 11])\n",
      "\n",
      "\n",
      "input_ids shape: torch.Size([128, 1])\n",
      "past_key_values[0][0].shape: torch.Size([128, 12, 11, 64])\n",
      "attention_mask shape: torch.Size([128, 12])\n",
      "\n",
      "\n",
      "input_ids shape: torch.Size([128, 1])\n",
      "past_key_values[0][0].shape: torch.Size([128, 12, 12, 64])\n",
      "attention_mask shape: torch.Size([128, 13])\n",
      "\n",
      "\n",
      "input_ids shape: torch.Size([128, 1])\n",
      "past_key_values[0][0].shape: torch.Size([128, 12, 13, 64])\n",
      "attention_mask shape: torch.Size([128, 14])\n",
      "\n",
      "\n",
      "input_ids shape: torch.Size([128, 1])\n",
      "past_key_values[0][0].shape: torch.Size([128, 12, 14, 64])\n",
      "attention_mask shape: torch.Size([128, 15])\n",
      "\n",
      "\n",
      "input_ids shape: torch.Size([128, 1])\n",
      "past_key_values[0][0].shape: torch.Size([128, 12, 15, 64])\n",
      "attention_mask shape: torch.Size([128, 16])\n",
      "\n",
      "\n",
      "input_ids shape: torch.Size([128, 1])\n",
      "past_key_values[0][0].shape: torch.Size([128, 12, 16, 64])\n",
      "attention_mask shape: torch.Size([128, 17])\n",
      "\n",
      "\n",
      "duration: 2.0185511112213135\n",
      "throughput: 634.1182013595597\n",
      "avg latency: 0.20185511112213134\n",
      "\n"
     ]
    }
   ],
   "source": [
    "# constants\n",
    "max_tokens = 10\n",
    "\n",
    "# observations\n",
    "durations = []\n",
    "throughputs = []\n",
    "latencies = []\n",
    "\n",
    "batch_sizes = [2**p for p in range(8)]\n",
    "\n",
    "for batch_size in batch_sizes:\n",
    "    print(f\"Batch size: {batch_size}\")\n",
    "\n",
    "    # generate tokens for batch and record duration\n",
    "    t0 = time.time()\n",
    "    batch_prompts = [\n",
    "        prompts[i % len(prompts)] for i in range(batch_size)\n",
    "    ]\n",
    "    inputs = tokenizer(batch_prompts, padding=True, return_tensors=\"pt\")\n",
    "    generated_tokens = generate_batch(inputs=inputs, max_tokens=max_tokens)\n",
    "    duration_s = time.time() - t0\n",
    "\n",
    "    ntokens = batch_size * max_tokens\n",
    "    throughput = ntokens / duration_s\n",
    "    avg_latency = duration_s / max_tokens\n",
    "\n",
    "    print(f\"duration: {duration_s}\")\n",
    "    print(f\"throughput: {throughput}\")\n",
    "    print(f\"avg latency: {avg_latency}\")\n",
    "    print()\n",
    "\n",
    "    durations.append(duration_s)\n",
    "    throughputs.append(throughput)\n",
    "    latencies.append(avg_latency)\n"
   ]
  },
  {
   "cell_type": "markdown",
   "metadata": {},
   "source": [
    "## Let's plot the throughput and latency observations against the batch size"
   ]
  },
  {
   "cell_type": "code",
   "execution_count": 33,
   "metadata": {},
   "outputs": [],
   "source": [
    "def render_plot(x, y1, y2, x_label, y1_label, y2_label):\n",
    "    # Create a figure and a set of subplots\n",
    "    fig, ax1 = plt.subplots()\n",
    "\n",
    "    # Plot the first line (throughput)\n",
    "    color = 'tab:red'\n",
    "    ax1.set_xlabel(x_label)\n",
    "    ax1.set_ylabel(y1_label, color=color)\n",
    "    ax1.plot(x, y1, color=color)\n",
    "    ax1.tick_params(axis='y', labelcolor=color)\n",
    "\n",
    "    # Set the x-axis to be log-scaled\n",
    "    ax1.set_xscale('log', base=2)\n",
    "\n",
    "    # Instantiate a second axes that shares the same x-axis\n",
    "    ax2 = ax1.twinx()  \n",
    "    color = 'tab:blue'\n",
    "    ax2.set_ylabel(y2_label, color=color)  # we already handled the x-label with ax1\n",
    "    ax2.plot(x, y2, color=color)\n",
    "    ax2.tick_params(axis='y', labelcolor=color)\n",
    "\n",
    "    plt.show()"
   ]
  },
  {
   "cell_type": "code",
   "execution_count": 34,
   "metadata": {},
   "outputs": [
    {
     "data": {
      "image/png": "[encoded data removed]",
      "text/plain": [
       "<Figure size 640x480 with 2 Axes>"
      ]
     },
     "metadata": {},
     "output_type": "display_data"
    }
   ],
   "source": [
    "render_plot(x=batch_sizes, y1=throughputs, y2=latencies, x_label=\"Batch Size\", y1_label=\"Througput\", y2_label=\"Latency\")"
   ]
  }
 ],
 "metadata": {
  "kernelspec": {
   "display_name": "py3_efficiently_serving_llms_course",
   "language": "python",
   "name": "python3"
  },
  "language_info": {
   "codemirror_mode": {
    "name": "ipython",
    "version": 3
   },
   "file_extension": ".py",
   "mimetype": "text/x-python",
   "name": "python",
   "nbconvert_exporter": "python",
   "pygments_lexer": "ipython3",
   "version": "3.11.11"
  }
 },
 "nbformat": 4,
 "nbformat_minor": 2
}
