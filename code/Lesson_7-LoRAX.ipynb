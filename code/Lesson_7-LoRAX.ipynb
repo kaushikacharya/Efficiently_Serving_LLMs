{
 "cells": [
  {
   "cell_type": "markdown",
   "id": "1a5ebfb1",
   "metadata": {},
   "source": [
    "## Lesson 7 - LoRAX\n",
    "\n",
    "In this lesson, we explore how to efficiently Serve LLMs using LoRAX!"
   ]
  },
  {
   "cell_type": "code",
   "execution_count": 1,
   "id": "9e07340c",
   "metadata": {},
   "outputs": [],
   "source": [
    "import asyncio\n",
    "import json\n",
    "import time\n",
    "from typing import List\n",
    "\n",
    "import matplotlib.pyplot as plt\n",
    "from tqdm.notebook import tqdm\n",
    "from pydantic import BaseModel, constr\n",
    "\n",
    "from lorax import AsyncClient, Client"
   ]
  },
  {
   "cell_type": "code",
   "execution_count": 2,
   "id": "585bbf88",
   "metadata": {},
   "outputs": [],
   "source": [
    "import os\n",
    "from dotenv import find_dotenv, load_dotenv\n",
    "\n",
    "# Initialize global variables\n",
    "_ = load_dotenv(find_dotenv())\n",
    "\n",
    "predibase_api_token = os.getenv(\"PREDIBASE_API_TOKEN\")\n",
    "predibase_tenant_id = os.getenv(\"PREDIBASE_TENANT_ID\")\n",
    "hf_token = os.getenv(\"HF_TOKEN\")"
   ]
  },
  {
   "cell_type": "code",
   "execution_count": null,
   "id": "f548c24d",
   "metadata": {},
   "outputs": [],
   "source": [
    "# Login to HuggingFace\n",
    "# from huggingface_hub import login\n",
    "\n",
    "# login(token=os.getenv(\"HF_TOKEN\"))"
   ]
  },
  {
   "cell_type": "code",
   "execution_count": 3,
   "id": "1c218048",
   "metadata": {},
   "outputs": [],
   "source": [
    "# llm_deployment_name = \"mistral-7b-instruct-v0-2\"\n",
    "llm_deployment_name = \"mistral-7b\""
   ]
  },
  {
   "cell_type": "code",
   "execution_count": 4,
   "id": "459bdca6",
   "metadata": {},
   "outputs": [],
   "source": [
    "# endpoint_url = f\"https://api.app.predibase.com/v1/llms/{llm_deployment_name}\"\n",
    "endpoint_url = f\"https://serving.app.predibase.com/{predibase_tenant_id}/deployments/v2/llms/{llm_deployment_name}\"\n",
    "headers = {\n",
    "    \"Authorization\": f\"Bearer {predibase_api_token}\"\n",
    "}\n",
    "client = Client(base_url=endpoint_url, headers=headers)"
   ]
  },
  {
   "cell_type": "markdown",
   "id": "6eaecce8",
   "metadata": {},
   "source": [
    "## Prefill vs Decode (KV Cache)"
   ]
  },
  {
   "cell_type": "code",
   "execution_count": 5,
   "id": "f49d54f6",
   "metadata": {},
   "outputs": [
    {
     "name": "stdout",
     "output_type": "stream",
     "text": [
      "\n",
      "\n",
      "Machine learning is a branch of artificial intelligence that focuses on the development of algorithms that can learn from data and make predictions or decisions without being explicitly programmed\n",
      "\n",
      "\n",
      "----------\n",
      "Request duration (May include model spinning time) (s): 1.2463223934173584\n"
     ]
    }
   ],
   "source": [
    "# First run a trial query to avoid including time taken by \n",
    "# spinning on of the model on the server in our analysis\n",
    "t0 = time.time()\n",
    "resp = client.generate(prompt=\"What is machine learning?\", max_new_tokens=32)\n",
    "duration_s = time.time() - t0\n",
    "\n",
    "print(resp.generated_text)\n",
    "print(\"\\n\\n----------\")\n",
    "print(f\"Request duration (May include model spinning time) (s): {duration_s}\")"
   ]
  },
  {
   "cell_type": "code",
   "execution_count": 6,
   "id": "957561bc",
   "metadata": {},
   "outputs": [
    {
     "name": "stdout",
     "output_type": "stream",
     "text": [
      "\n",
      "\n",
      "Deep learning is a subset of machine learning that uses artificial neural networks to learn from data. It is a powerful tool that can be used to solve complex\n",
      "\n",
      "\n",
      "----------\n",
      "Request duration (s): 1.2642405033111572\n"
     ]
    }
   ],
   "source": [
    "t0 = time.time()\n",
    "resp = client.generate(prompt=\"What is deep learning?\", max_new_tokens=32)\n",
    "duration_s = time.time() - t0\n",
    "\n",
    "print(resp.generated_text)\n",
    "print(\"\\n\\n----------\")\n",
    "print(f\"Request duration (s): {duration_s}\")"
   ]
  },
  {
   "cell_type": "code",
   "execution_count": 7,
   "id": "d0ded2bc",
   "metadata": {},
   "outputs": [
    {
     "name": "stdout",
     "output_type": "stream",
     "text": [
      "\n",
      "\n",
      "Deep learning is a subset of machine learning that uses artificial neural networks to learn from data. It is a powerful tool that can be used to solve complex\n",
      "\n",
      "\n",
      "----------\n",
      "Time to first token (TTFT): 0.7824609279632568 seconds\n",
      "Throughput (tok/sec): 106.44369692588678\n"
     ]
    }
   ],
   "source": [
    "durations_s = []\n",
    "\n",
    "t0 = time.time()\n",
    "for resp in client.generate_stream(prompt=\"What is deep learning?\", max_new_tokens=32):\n",
    "    durations_s.append(time.time() - t0)\n",
    "    \n",
    "    if not resp.token.special:\n",
    "        print(resp.token.text, sep=\"\", end=\"\", flush=True)\n",
    "\n",
    "    t0 = time.time()\n",
    "\n",
    "print(\"\\n\\n\\n----------\")\n",
    "print(f\"Time to first token (TTFT): {durations_s[0]} seconds\")\n",
    "print(f\"Throughput (tok/sec): {(len(durations_s) - 1)/sum(durations_s[1:])}\")"
   ]
  },
  {
   "cell_type": "code",
   "execution_count": 8,
   "id": "125fad22",
   "metadata": {},
   "outputs": [
    {
     "data": {
      "image/png": "[encoded data removed]",
      "text/plain": [
       "<Figure size 640x480 with 1 Axes>"
      ]
     },
     "metadata": {},
     "output_type": "display_data"
    }
   ],
   "source": [
    "plt.plot(durations_s)\n",
    "plt.show()"
   ]
  },
  {
   "cell_type": "markdown",
   "id": "7fb92827",
   "metadata": {},
   "source": [
    "## Continuous Batching"
   ]
  },
  {
   "cell_type": "code",
   "execution_count": 9,
   "id": "d83c680b",
   "metadata": {},
   "outputs": [],
   "source": [
    "color_codes = [\n",
    "    \"31\",  # red\n",
    "    \"32\",  # green\n",
    "    \"34\",  # blue\n",
    "]\n",
    "\n",
    "def format_text(text, i):\n",
    "    return f\"\\x1b[{color_codes[i]}m{text}\\x1b[0m\""
   ]
  },
  {
   "cell_type": "code",
   "execution_count": 10,
   "id": "9b711646",
   "metadata": {},
   "outputs": [
    {
     "name": "stdout",
     "output_type": "stream",
     "text": [
      "\u001b[32m\n",
      "\u001b[0m\u001b[31m\n",
      "\u001b[0m\u001b[34m\n",
      "\u001b[0m\u001b[34m\n",
      "\u001b[0m\u001b[34mDeep\u001b[0m\u001b[34m learning\u001b[0m\u001b[31m\n",
      "\u001b[0m\u001b[31mDeep\u001b[0m\u001b[31m learning\u001b[0m\u001b[31m is\u001b[0m\u001b[31m a\u001b[0m\u001b[32m\n",
      "\u001b[0m\u001b[32mDeep\u001b[0m\u001b[32m learning\u001b[0m\u001b[32m is\u001b[0m\u001b[32m a\u001b[0m\u001b[32m subset\u001b[0m\u001b[32m of\u001b[0m\u001b[32m machine\u001b[0m\u001b[34m is\u001b[0m\u001b[34m a\u001b[0m\u001b[34m subset\u001b[0m\u001b[34m of\u001b[0m\u001b[34m machine\u001b[0m\u001b[34m learning\u001b[0m\u001b[31m subset\u001b[0m\u001b[31m of\u001b[0m\u001b[31m machine\u001b[0m\u001b[31m learning\u001b[0m\u001b[31m that\u001b[0m\u001b[32m learning\u001b[0m\u001b[31m uses\u001b[0m\u001b[31m artificial\u001b[0m\u001b[31m neural\u001b[0m\u001b[31m networks\u001b[0m\u001b[31m to\u001b[0m\u001b[31m learn\u001b[0m\u001b[31m from\u001b[0m\u001b[31m data\u001b[0m\u001b[31m.\u001b[0m\u001b[31m It\u001b[0m\u001b[31m is\u001b[0m\u001b[31m a\u001b[0m\u001b[31m powerful\u001b[0m\u001b[31m tool\u001b[0m\u001b[31m that\u001b[0m\u001b[31m can\u001b[0m\u001b[31m be\u001b[0m\u001b[31m used\u001b[0m\u001b[31m to\u001b[0m\u001b[31m solve\u001b[0m\u001b[31m complex\u001b[0m\u001b[31m problems\u001b[0m\u001b[31m and\u001b[0m\u001b[31m make\u001b[0m\u001b[31m predictions\u001b[0m\u001b[31m.\u001b[0m\u001b[31m\n",
      "\u001b[0m\u001b[31m\n",
      "\u001b[0m\u001b[31mWhat\u001b[0m\u001b[31m are\u001b[0m\u001b[31m the\u001b[0m\u001b[31m benefits\u001b[0m\u001b[31m of\u001b[0m\u001b[31m deep\u001b[0m\u001b[31m learning\u001b[0m\u001b[31m?\u001b[0m\u001b[31m\n",
      "\u001b[0m\u001b[31m\n",
      "\u001b[0m\u001b[31mDeep\u001b[0m\u001b[31m learning\u001b[0m\u001b[31m has\u001b[0m\u001b[31m many\u001b[0m\u001b[31m benefits\u001b[0m\u001b[31m,\u001b[0m\u001b[31m including\u001b[0m\u001b[31m the\u001b[0m\u001b[31m ability\u001b[0m\u001b[31m to\u001b[0m\u001b[31m:\u001b[0m\u001b[31m\n",
      "\u001b[0m\u001b[31m\n",
      "\u001b[0m\u001b[31m-\u001b[0m\u001b[31mMake\u001b[0m\u001b[31m predictions\u001b[0m\u001b[31m\n",
      "\u001b[0m\u001b[31m\n",
      "\u001b[0m\u001b[31m-\u001b[0m\u001b[31mS\u001b[0m\u001b[31molve\u001b[0m\u001b[31m complex\u001b[0m\u001b[31m problems\u001b[0m\u001b[31m\n",
      "\u001b[0m\u001b[31m\n",
      "\u001b[0m\u001b[31m-\u001b[0m\u001b[31mL\u001b[0m\u001b[31mear\u001b[0m\u001b[31mn\u001b[0m\u001b[31m from\u001b[0m\u001b[31m data\u001b[0m\u001b[31m\n",
      "\u001b[0m\u001b[31m\n",
      "\u001b[0m\u001b[31m-\u001b[0m\u001b[31mIm\u001b[0m\u001b[31mpro\u001b[0m\u001b[31mve\u001b[0m\u001b[31m accuracy\u001b[0m\u001b[31m\n",
      "\u001b[0m\u001b[31m\n",
      "\u001b[0m\u001b[31m-\u001b[0m\u001b[31mRed\u001b[0m\u001b[31muce\u001b[0m\u001b[31m bias\u001b[0m\u001b[31m\n",
      "\u001b[0m\u001b[31m\n",
      "\u001b[0m\u001b[31m-\u001b[0m\u001b[31mIn\u001b[0m\u001b[31mcre\u001b[0m\u001b[31mase\u001b[0m\u001b[31m efficiency\u001b[0m\n",
      "\n",
      "\n",
      "----------\n",
      "Time to first token (TTFT): [0.9388806819915771, 0.929969072341919, 0.9402115345001221]\n",
      "Throughput (tok/sec): [85.7061850254671, 89.86703043201896, 134.96634130644642]\n",
      "Total duration (sec): 2.350919485092163\n"
     ]
    }
   ],
   "source": [
    "async_client = AsyncClient(base_url=endpoint_url, headers=headers)\n",
    "\n",
    "durations_s = [[], [], []]\n",
    "\n",
    "async def run(max_new_tokens, i):\n",
    "    t0 = time.time()\n",
    "    async for resp in async_client.generate_stream(prompt=\"What is deep learning?\", max_new_tokens=max_new_tokens):\n",
    "        durations_s[i].append(time.time() - t0)\n",
    "        print(format_text(resp.token.text, i), sep=\"\", end=\"\", flush=True)\n",
    "        t0 = time.time()\n",
    "\n",
    "t0 = time.time()\n",
    "all_max_new_tokens = [100, 10, 10]\n",
    "await asyncio.gather(*[run(max_new_tokens, i)  for i, max_new_tokens in enumerate(all_max_new_tokens)])\n",
    "\n",
    "print(\"\\n\\n\\n----------\")\n",
    "print(f\"Time to first token (TTFT): {[s[0] for s in durations_s]}\")\n",
    "print(f\"Throughput (tok/sec): {[(len(s) - 1)/sum(s[1:]) for s in durations_s]}\")\n",
    "print(f\"Total duration (sec): {time.time() - t0}\")"
   ]
  },
  {
   "cell_type": "markdown",
   "id": "e446af94",
   "metadata": {},
   "source": [
    "## Multi-LoRA"
   ]
  },
  {
   "cell_type": "code",
   "execution_count": 11,
   "id": "d82d6ca4",
   "metadata": {},
   "outputs": [],
   "source": [
    "def run_with_adapter(prompt, adapter_id):\n",
    "    durations_s = []\n",
    "\n",
    "    t0 = time.time()\n",
    "    for resp in client.generate_stream(\n",
    "        prompt=prompt,\n",
    "        adapter_id=adapter_id,\n",
    "        adapter_source=\"hub\",\n",
    "        api_token=hf_token,\n",
    "        max_new_tokens=64\n",
    "    ):\n",
    "        durations_s.append(time.time() - t0)\n",
    "        if not resp.token.special:\n",
    "            print(resp.token.text, sep=\"\", end=\"\", flush=True)\n",
    "        t0 = time.time()\n",
    "    \n",
    "    print(\"\\n\\n\\n----------\")\n",
    "    print(f\"Time to First Token (TTFT): {durations_s[0]} sec\")\n",
    "    print(f\"Throughput (tok/sec): {(len(durations_s)-1)/sum(durations_s[1:])}\")"
   ]
  },
  {
   "cell_type": "code",
   "execution_count": 12,
   "id": "329f2f63",
   "metadata": {},
   "outputs": [
    {
     "name": "stdout",
     "output_type": "stream",
     "text": [
      " are running around the field.\n",
      "\n",
      "\n",
      "----------\n",
      "Time to First Token (TTFT): 2.669320583343506 sec\n",
      "Throughput (tok/sec): 132.5029131559114\n"
     ]
    }
   ],
   "source": [
    "pt_hellaswag_processed = \\\n",
    "\"\"\"You are provided with an incomplete passage below. Please read the passage and then finish it with an appropriate response. For example:\n",
    "\n",
    "### Passage: My friend and I think alike. We\n",
    "\n",
    "### Ending: often finish each other's sentences.\n",
    "\n",
    "Now please finish the following passage:\n",
    "\n",
    "### Passage: {ctx}\n",
    "\n",
    "### Ending: \"\"\"\n",
    "\n",
    "ctx = \"Numerous people are watching others on a field. Trainers are playing frisbee with their dogs. the dogs\"\n",
    "\n",
    "run_with_adapter(prompt=pt_hellaswag_processed.format(ctx=ctx), adapter_id=\"predibase/hellaswag_processed\")"
   ]
  },
  {
   "cell_type": "code",
   "execution_count": 13,
   "id": "c2774768",
   "metadata": {},
   "outputs": [
    {
     "name": "stdout",
     "output_type": "stream",
     "text": [
      " Mondale was admitted to the Mayo Clinic on Friday . He was diagnosed with influenza after a routine checkup . He is expected to return home soon .\n",
      "\n",
      "\n",
      "----------\n",
      "Time to First Token (TTFT): 2.5772013664245605 sec\n",
      "Throughput (tok/sec): 68.65322227346647\n"
     ]
    }
   ],
   "source": [
    "pt_cnn = \\\n",
    "\"\"\"You are given a news article below. Please summarize the article, including only its highlights.\n",
    "\n",
    "### Article: {article}\n",
    "\n",
    "### Summary: \"\"\"\n",
    "\n",
    "article = \"(CNN)Former Vice President Walter Mondale was released from the Mayo Clinic on Saturday after being admitted with influenza, hospital spokeswoman Kelley Luckstein said. \\\"He's doing well. We treated him for flu and cold symptoms and he was released today,\\\" she said. Mondale, 87, was diagnosed after he went to the hospital for a routine checkup following a fever, former President Jimmy Carter said Friday. \\\"He is in the bed right this moment, but looking forward to come back home,\\\" Carter said during a speech at a Nobel Peace Prize Forum in Minneapolis. \\\"He said tell everybody he is doing well.\\\" Mondale underwent treatment at the Mayo Clinic in Rochester, Minnesota. The 42nd vice president served under Carter between 1977 and 1981, and later ran for President, but lost to Ronald Reagan. But not before he made history by naming a woman, U.S. Rep. Geraldine A. Ferraro of New York, as his running mate. Before that, the former lawyer was  a U.S. senator from Minnesota. His wife, Joan Mondale, died last year.\"\n",
    "\n",
    "\n",
    "run_with_adapter(prompt=pt_cnn.format(article=article), adapter_id=\"predibase/cnn\")"
   ]
  },
  {
   "cell_type": "code",
   "execution_count": 14,
   "id": "82c7196c",
   "metadata": {},
   "outputs": [
    {
     "name": "stdout",
     "output_type": "stream",
     "text": [
      " {\"person\": [\"Fischler\"], \"organization\": [], \"location\": [\"France\", \"Britain\"], \"miscellaneous\": []}\n",
      "\n",
      "\n",
      "----------\n",
      "Time to First Token (TTFT): 2.8259117603302 sec\n",
      "Throughput (tok/sec): 68.63402508158953\n"
     ]
    }
   ],
   "source": [
    "pt_conllpp = \"\"\"\n",
    "Your task is a Named Entity Recognition (NER) task. Predict the category of\n",
    "each entity, then place the entity into the list associated with the \n",
    "category in an output JSON payload. Below is an example:\n",
    "\n",
    "Input: EU rejects German call to boycott British lamb . Output: {{\"person\":\n",
    "[], \"organization\": [\"EU\"], \"location\": [], \"miscellaneous\": [\"German\",\n",
    "\"British\"]}}\n",
    "\n",
    "Now, complete the task.\n",
    "\n",
    "Input: {inpt} Output:\"\"\"\n",
    "\n",
    "inpt = \"Only France and Britain backed Fischler's proposal .\"\n",
    "\n",
    "run_with_adapter(prompt=pt_conllpp.format(inpt=inpt), adapter_id=\"predibase/conllpp\")"
   ]
  },
  {
   "cell_type": "code",
   "execution_count": 15,
   "id": "29dfb797",
   "metadata": {},
   "outputs": [
    {
     "name": "stdout",
     "output_type": "stream",
     "text": [
      "\u001b[32m Mond\u001b[0m\u001b[32male\u001b[0m\u001b[32m was\u001b[0m\u001b[34m {\"\u001b[0m\u001b[34mperson\u001b[0m\u001b[34m\":\u001b[0m\u001b[31m are\u001b[0m\u001b[31m running\u001b[0m\u001b[31m around\u001b[0m\u001b[31m the\u001b[0m\u001b[31m field\u001b[0m\u001b[31m.\u001b[0m\u001b[32m admitted\u001b[0m\u001b[32m to\u001b[0m\u001b[32m the\u001b[0m\u001b[34m [\"\u001b[0m\u001b[34mF\u001b[0m\u001b[34misch\u001b[0m\u001b[32m May\u001b[0m\u001b[32mo\u001b[0m\u001b[34mler\u001b[0m\u001b[34m\"],\u001b[0m\u001b[34m \"\u001b[0m\u001b[32m Clin\u001b[0m\u001b[32mic\u001b[0m\u001b[32m on\u001b[0m\u001b[32m Friday\u001b[0m\u001b[32m .\u001b[0m\u001b[34morgan\u001b[0m\u001b[34mization\u001b[0m\u001b[32m He\u001b[0m\u001b[32m was\u001b[0m\u001b[32m diagnosed\u001b[0m\u001b[32m with\u001b[0m\u001b[34m\":\u001b[0m\u001b[34m [],\u001b[0m\u001b[34m \"\u001b[0m\u001b[34mlocation\u001b[0m\u001b[32m influ\u001b[0m\u001b[32menza\u001b[0m\u001b[32m after\u001b[0m\u001b[34m\":\u001b[0m\u001b[34m [\"\u001b[0m\u001b[34mFr\u001b[0m\u001b[32m a\u001b[0m\u001b[32m routine\u001b[0m\u001b[32m check\u001b[0m\u001b[34mance\u001b[0m\u001b[34m\",\u001b[0m\u001b[34m \"\u001b[0m\u001b[34mB\u001b[0m\u001b[34mrit\u001b[0m\u001b[32mup\u001b[0m\u001b[32m .\u001b[0m\u001b[32m He\u001b[0m\u001b[34main\u001b[0m\u001b[34m\"],\u001b[0m\u001b[32m is\u001b[0m\u001b[32m expected\u001b[0m\u001b[32m to\u001b[0m\u001b[34m \"\u001b[0m\u001b[34mm\u001b[0m\u001b[34mis\u001b[0m\u001b[34mcell\u001b[0m\u001b[32m return\u001b[0m\u001b[32m home\u001b[0m\u001b[32m soon\u001b[0m\u001b[34maneous\u001b[0m\u001b[34m\":\u001b[0m\u001b[34m []\u001b[0m\u001b[34m}\u001b[0m\u001b[32m .\u001b[0m\n",
      "\n",
      "\n",
      "----------\n",
      "Time to First Token (TTFT) (sec): [1.1491577625274658, 1.0437290668487549, 1.1219608783721924]\n",
      "Throughput (tok/sec): [48.77575709247252, 53.45856526734655, 66.23942863831535]\n",
      "Total duration: 1.9096016883850098 sec\n"
     ]
    }
   ],
   "source": [
    "durations_s = [[], [], []]\n",
    "\n",
    "async def run(prompt, adapter_id, i):\n",
    "    t0 = time.time()\n",
    "    async for resp in async_client.generate_stream(\n",
    "        prompt=prompt,\n",
    "        adapter_id=adapter_id,\n",
    "        adapter_source=\"hub\",\n",
    "        api_token=hf_token,\n",
    "        max_new_tokens=64\n",
    "    ):\n",
    "        durations_s[i].append(time.time() - t0)\n",
    "        if not resp.token.special:\n",
    "            print(format_text(resp.token.text, i), sep=\"\", end=\"\", flush=True)\n",
    "        t0 = time.time()\n",
    "\n",
    "t0 = time.time()\n",
    "prompts = [\n",
    "    pt_hellaswag_processed.format(ctx=ctx),\n",
    "    pt_cnn.format(article=article),\n",
    "    pt_conllpp.format(inpt=inpt)\n",
    "]\n",
    "\n",
    "adapter_ids = [\"predibase/hellaswag_processed\", \"predibase/cnn\", \"predibase/conllpp\"]\n",
    "await asyncio.gather(*[run(prompt=prompt, adapter_id=adapter_id, i=i) for i, (prompt, adapter_id) in enumerate(zip(prompts, adapter_ids))])\n",
    "\n",
    "print(\"\\n\\n\\n----------\")\n",
    "print(f\"Time to First Token (TTFT) (sec): {[s[0] for s in durations_s]}\")\n",
    "print(f\"Throughput (tok/sec): {[(len(s)-1)/sum(s[1:]) for s in durations_s]}\")\n",
    "print(f\"Total duration: {time.time() - t0} sec\")"
   ]
  },
  {
   "cell_type": "markdown",
   "id": "3e6d6c82",
   "metadata": {},
   "source": [
    "## Bonus: Structured Generation"
   ]
  },
  {
   "cell_type": "code",
   "execution_count": 16,
   "id": "96453fcd",
   "metadata": {},
   "outputs": [
    {
     "data": {
      "text/plain": [
       "{'title': 'Person',\n",
       " 'type': 'object',\n",
       " 'properties': {'name': {'title': 'Name', 'maxLength': 10, 'type': 'string'},\n",
       "  'age': {'title': 'Age', 'type': 'integer'}},\n",
       " 'required': ['name', 'age']}"
      ]
     },
     "execution_count": 16,
     "metadata": {},
     "output_type": "execute_result"
    }
   ],
   "source": [
    "from pydantic import BaseModel, constr\n",
    "\n",
    "class Person(BaseModel):\n",
    "    name: constr(max_length=10)\n",
    "    age: int\n",
    "\n",
    "schema = Person.schema()\n",
    "schema"
   ]
  },
  {
   "cell_type": "code",
   "execution_count": 17,
   "id": "b61b1340",
   "metadata": {},
   "outputs": [
    {
     "data": {
      "text/plain": [
       "{'name': 'Jane Doe', 'age': 30}"
      ]
     },
     "execution_count": 17,
     "metadata": {},
     "output_type": "execute_result"
    }
   ],
   "source": [
    "resp = client.generate(\n",
    "    prompt=\"Create a person description for me\",\n",
    "    response_format={\"type\": \"json_object\", \"schema\": schema}\n",
    ")\n",
    "json.loads(resp.generated_text)"
   ]
  },
  {
   "cell_type": "code",
   "execution_count": 18,
   "id": "893b9a72",
   "metadata": {},
   "outputs": [
    {
     "data": {
      "text/plain": [
       "' {\"person\":\\n[\"Fischler\"], \"organization\": [\"France\", \"Britain\"], \"location\": [],\\n\"miscellaneous\": []}\\n\\nInput: The EU\\'s chief agricultural negotiator, Franz Fischler, said the\\nproposal was \"a good basis for further discussion\" . Output: {\"person\":\\n[\"Fischler\"], \"organization\": [\"EU\"], \"location\": [], \"miscellaneous\":\\n[\"chief agricultural negotiator\"]}\\n\\nInput: The EU\\'s chief agricultural negotiator, Franz Fischler, said the\\npro'"
      ]
     },
     "execution_count": 18,
     "metadata": {},
     "output_type": "execute_result"
    }
   ],
   "source": [
    "prompt_template = \"\"\"\n",
    "Your task is a Named Entity Recognition (NER) task. Predict the category of\n",
    "each entity, then place the entity into the list associated with the \n",
    "category in an output JSON payload. Below is an example:\n",
    "\n",
    "Input: EU rejects German call to boycott British lamb . Output: {{\"person\":\n",
    "[], \"organization\": [\"EU\"], \"location\": [], \"miscellaneous\": [\"German\",\n",
    "\"British\"]}}\n",
    "\n",
    "Now, complete the task.\n",
    "\n",
    "Input: {input} Output:\"\"\"\n",
    "\n",
    "resp = client.generate(\n",
    "    prompt_template.format(input=\"Only France and Britain backed Fischler's proposal .\"),\n",
    "    max_new_tokens=128\n",
    ")\n",
    "\n",
    "resp.generated_text"
   ]
  },
  {
   "cell_type": "code",
   "execution_count": 19,
   "id": "10b1578a",
   "metadata": {},
   "outputs": [
    {
     "data": {
      "text/plain": [
       "{'title': 'Output',\n",
       " 'type': 'object',\n",
       " 'properties': {'person': {'title': 'Person',\n",
       "   'type': 'array',\n",
       "   'items': {'type': 'string'}},\n",
       "  'organization': {'title': 'Organization',\n",
       "   'type': 'array',\n",
       "   'items': {'type': 'string'}},\n",
       "  'location': {'title': 'Location',\n",
       "   'type': 'array',\n",
       "   'items': {'type': 'string'}},\n",
       "  'miscellaneous': {'title': 'Miscellaneous',\n",
       "   'type': 'array',\n",
       "   'items': {'type': 'string'}}},\n",
       " 'required': ['person', 'organization', 'location', 'miscellaneous']}"
      ]
     },
     "execution_count": 19,
     "metadata": {},
     "output_type": "execute_result"
    }
   ],
   "source": [
    "from typing import List\n",
    "\n",
    "class Output(BaseModel):\n",
    "    person: List[str]\n",
    "    organization: List[str]\n",
    "    location: List[str]\n",
    "    miscellaneous: List[str]\n",
    "\n",
    "schema = Output.schema()\n",
    "schema"
   ]
  },
  {
   "cell_type": "code",
   "execution_count": 20,
   "id": "e60e4c7c",
   "metadata": {},
   "outputs": [
    {
     "data": {
      "text/plain": [
       "{'person': ['Fischler'],\n",
       " 'organization': ['France', 'Britain'],\n",
       " 'location': [],\n",
       " 'miscellaneous': []}"
      ]
     },
     "execution_count": 20,
     "metadata": {},
     "output_type": "execute_result"
    }
   ],
   "source": [
    "resp = client.generate(\n",
    "    prompt=prompt_template.format(input=\"Only France and Britain backed Fischler's proposal .\"),\n",
    "    max_new_tokens=128,\n",
    "    response_format={\n",
    "        \"type\": \"json_object\",\n",
    "        \"schema\": schema\n",
    "    }\n",
    ")\n",
    "\n",
    "json.loads(resp.generated_text)"
   ]
  },
  {
   "cell_type": "code",
   "execution_count": 21,
   "id": "488fa0fc",
   "metadata": {},
   "outputs": [
    {
     "data": {
      "text/plain": [
       "{'person': ['Fischler'],\n",
       " 'organization': [],\n",
       " 'location': ['France', 'Britain'],\n",
       " 'miscellaneous': []}"
      ]
     },
     "execution_count": 21,
     "metadata": {},
     "output_type": "execute_result"
    }
   ],
   "source": [
    "resp = client.generate(\n",
    "    prompt=prompt_template.format(input=\"Only France and Britain backed Fischler's proposal .\"),\n",
    "    adapter_id=\"predibase/conllpp\",\n",
    "    adapter_source=\"hub\",\n",
    "    api_token=hf_token,\n",
    "    max_new_tokens=128,\n",
    "    response_format={\n",
    "        \"type\": \"json_object\",\n",
    "        \"schema\": schema\n",
    "    }\n",
    ")\n",
    "\n",
    "json.loads(resp.generated_text)"
   ]
  },
  {
   "cell_type": "markdown",
   "id": "5ce8ff19",
   "metadata": {},
   "source": [
    "## Additional Predibase Resources: \n",
    "\n",
    "- LoRA Land demo environment: https://predibase.com/lora-land \n",
    "- Predibase blog articles: https://predibase.com/blog \n",
    "- LoRAX Github repo: https://github.com/predibase/lorax "
   ]
  }
 ],
 "metadata": {
  "kernelspec": {
   "display_name": "Python 3",
   "language": "python",
   "name": "python3"
  },
  "language_info": {
   "codemirror_mode": {
    "name": "ipython",
    "version": 3
   },
   "file_extension": ".py",
   "mimetype": "text/x-python",
   "name": "python",
   "nbconvert_exporter": "python",
   "pygments_lexer": "ipython3",
   "version": "3.11.11"
  }
 },
 "nbformat": 4,
 "nbformat_minor": 5
}
