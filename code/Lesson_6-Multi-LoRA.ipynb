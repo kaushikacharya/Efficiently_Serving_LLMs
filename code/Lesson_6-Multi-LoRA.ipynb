{
 "cells": [
  {
   "cell_type": "markdown",
   "id": "fbfae621",
   "metadata": {},
   "source": [
    "# Lesson 6 - Multi-LoRA\n",
    "\n",
    "In this lesson, we'll see how to efficiently serve dozens of fine-tuned models together in a single deployment without sacrificing latency."
   ]
  },
  {
   "cell_type": "markdown",
   "id": "9923ed56",
   "metadata": {},
   "source": [
    "### Import required packages"
   ]
  },
  {
   "cell_type": "code",
   "execution_count": 1,
   "id": "4308f62d",
   "metadata": {},
   "outputs": [],
   "source": [
    "import copy\n",
    "import matplotlib.pyplot as plt\n",
    "import numpy as np\n",
    "import random\n",
    "import time\n",
    "import torch\n",
    "import torch.nn.functional as F\n",
    "\n",
    "from tqdm import tqdm"
   ]
  },
  {
   "cell_type": "markdown",
   "id": "e581c2bc",
   "metadata": {},
   "source": [
    "### Let's create a new model\n",
    "\n",
    "We will start with creating an extension to the model from lesson 5. It has a custom helper function for computing the LoRA layer step with multiple LoRAs per batch."
   ]
  },
  {
   "cell_type": "code",
   "execution_count": null,
   "id": "d006c7a7",
   "metadata": {},
   "outputs": [],
   "source": [
    "# hidden_size = 10\n",
    "# set this so low to ensure we are not \n",
    "# compute-bound by the linear layer\n",
    "# this is only an issue when running on CPU, \n",
    "# for GPUs we can set this much\n",
    "# higher and still avoid being compute bound\n",
    "\n",
    "class AbstractMultiLoraModel(torch.nn.Module):\n",
    "    def __init__(self, n_vocab=10, hidden_size=10):\n",
    "        super().__init__()\n",
    "\n",
    "        self.embedding = torch.nn.Embedding(num_embeddings=n_vocab, embedding_dim=hidden_size)\n",
    "        self.linear = torch.nn.Linear(in_features=hidden_size, out_features=hidden_size)\n",
    "        self.lm_head = torch.nn.Linear(in_features=hidden_size, out_features=n_vocab)\n",
    "    \n",
    "    def linear_lora(\n",
    "            self,\n",
    "            x: torch.Tensor,                # (batch_size, seq_len, in_features)\n",
    "            loras_a: torch.Tensor,          # (num_loras, in_features, rank)\n",
    "            loras_b: torch.Tensor,          # (num_loras, rank, out_features)\n",
    "            lora_indices: torch.LongTensor  # (batch_size,)\n",
    "        ) -> torch.Tensor:\n",
    "        # y[i] = x[i] @ loras_a[lora_idx] @ loras_b[lora_idx]\n",
    "        raise NotImplementedError()\n",
    "\n",
    "    def forward(self, input_ids, loras_a, loras_b, lora_indices):\n",
    "        x = self.embedding(input_ids)\n",
    "        x = self.linear_lora(x=x, loras_a=loras_a, loras_b=loras_b, lora_indices=lora_indices)\n",
    "        x = self.lm_head(x)\n",
    "\n",
    "        return x"
   ]
  },
  {
   "cell_type": "markdown",
   "id": "584afcd4",
   "metadata": {},
   "source": [
    "### Using a loop\n",
    "\n",
    "Our first attempt to infer across multiple LoRAs will be straightforward: just loop over every row in the batch and apply the correct LoRA using an index mapping: `batch_index --> lora_index`."
   ]
  },
  {
   "cell_type": "code",
   "execution_count": 3,
   "id": "bc7fde7c",
   "metadata": {},
   "outputs": [],
   "source": [
    "class LoopMultiLoraModel(AbstractMultiLoraModel):\n",
    "    def linear_lora(\n",
    "            self,\n",
    "            x: torch.Tensor,                # (batch_size, seq_len, in_features)\n",
    "            loras_a: torch.Tensor,          # (num_loras, in_features, lora_rank)\n",
    "            loras_b: torch.Tensor,          # (num_loras, lora_rank, out_features)\n",
    "            lora_indices: torch.LongTensor  # (batch_size,)\n",
    "        ) -> torch.Tensor:\n",
    "        \n",
    "        y = self.linear(x)\n",
    "        \n",
    "        for batch_index, lora_idx in enumerate(lora_indices.numpy()):\n",
    "            lora_a = loras_a[lora_idx]\n",
    "            lora_b = loras_b[lora_idx]\n",
    "            y[batch_index] += y[batch_index] @ lora_a @ lora_b\n",
    "        \n",
    "        return y"
   ]
  },
  {
   "cell_type": "code",
   "execution_count": 4,
   "id": "dfc1ed87",
   "metadata": {},
   "outputs": [],
   "source": [
    "# toy example of a detokenizer. The vocabulary consists of only 10 words (different colors)\n",
    "detokenizer = [\n",
    "    \"red\",\n",
    "    \"orange\",\n",
    "    \"yellow\",\n",
    "    \"green\",\n",
    "    \"blue\",\n",
    "    \"indigo\",\n",
    "    \"violet\",\n",
    "    \"magenta\",\n",
    "    \"marigold\",\n",
    "    \"chartreuse\",\n",
    "]"
   ]
  },
  {
   "cell_type": "code",
   "execution_count": 5,
   "id": "0fa28871",
   "metadata": {},
   "outputs": [],
   "source": [
    "# dummy inputs\n",
    "input_ids = torch.LongTensor([[0,1,2,3,4,5,6,7]])"
   ]
  },
  {
   "cell_type": "code",
   "execution_count": 6,
   "id": "15040105",
   "metadata": {},
   "outputs": [
    {
     "data": {
      "text/plain": [
       "<torch._C.Generator at 0x7f5ffe45d510>"
      ]
     },
     "execution_count": 6,
     "metadata": {},
     "output_type": "execute_result"
    }
   ],
   "source": [
    "# assign a seed for random number generation\n",
    "torch.manual_seed(42)"
   ]
  },
  {
   "cell_type": "code",
   "execution_count": 7,
   "id": "6b9d9689",
   "metadata": {},
   "outputs": [],
   "source": [
    "def generate_token(model, **kwargs):\n",
    "    with torch.no_grad():\n",
    "        logits = model(**kwargs)\n",
    "    \n",
    "    last_logits = logits[:, -1, :]\n",
    "    next_token_ids = last_logits.argmax(dim=1)\n",
    "\n",
    "    return [detokenizer[token_id] for token_id in next_token_ids]"
   ]
  },
  {
   "cell_type": "code",
   "execution_count": 8,
   "id": "5c5196b8",
   "metadata": {},
   "outputs": [],
   "source": [
    "model = LoopMultiLoraModel()"
   ]
  },
  {
   "cell_type": "markdown",
   "id": "a2a886d7",
   "metadata": {},
   "source": [
    "### Let's try it!\n",
    "\n",
    "We will try this over a few random LoRAs using a fixed tensor of input_ids. If our multi-LoRA generation process is working as designed, we should see a variety of different outputs generated as we randomly iterate over the LoRAs."
   ]
  },
  {
   "cell_type": "code",
   "execution_count": 12,
   "id": "48e8ffb1",
   "metadata": {},
   "outputs": [
    {
     "name": "stdout",
     "output_type": "stream",
     "text": [
      "['red']\n",
      "['violet']\n",
      "['violet']\n",
      "['blue']\n",
      "['indigo']\n",
      "['orange']\n",
      "['chartreuse']\n",
      "['red']\n",
      "['indigo']\n",
      "['red']\n"
     ]
    }
   ],
   "source": [
    "# constants\n",
    "bs = 1          # Batch size\n",
    "num_loras = 64  # Number of LoRA adapters\n",
    "h = 10          # Hidden size\n",
    "r = 2           # Rank\n",
    "\n",
    "# create contiguous blocks for num_loras random LoRA weights\n",
    "loras_a = torch.randn(num_loras, h, r)\n",
    "loras_b = torch.randn(num_loras, r, h)\n",
    "\n",
    "for i in range(10):\n",
    "    # randomize the LoRAs each iteration\n",
    "    lora_indices = torch.randint(num_loras, (bs,), dtype=torch.long)\n",
    "    next_token = generate_token(\n",
    "        model=model,\n",
    "        input_ids=input_ids,\n",
    "        loras_a=loras_a,\n",
    "        loras_b=loras_b,\n",
    "        lora_indices=lora_indices\n",
    "    )\n",
    "    print(next_token)"
   ]
  },
  {
   "cell_type": "markdown",
   "id": "4c8737a5",
   "metadata": {},
   "source": [
    "### Let's benchmark our multi-LoRA system!\n",
    "\n",
    "We will measure the average latency to generate a single token as the batch size increases and each element within the batch can have a different LoRA adapter (chosen randomly)."
   ]
  },
  {
   "cell_type": "code",
   "execution_count": 13,
   "id": "30d45cf9",
   "metadata": {},
   "outputs": [],
   "source": [
    "# constants\n",
    "seq_len = 8\n",
    "vocab_size = 10\n",
    "nsamples = 500\n",
    "max_batch_size = 64\n",
    "\n",
    "def benchmark(model):\n",
    "    avg_latencies = []\n",
    "    \n",
    "    for bs in range(1, max_batch_size+1):\n",
    "        latencies = []\n",
    "        # Collect latencies for nsamples and compute average\n",
    "        for _ in range(nsamples):\n",
    "            # randomize the inputs and LoRA indices\n",
    "            input_ids = torch.randint(vocab_size, (bs, seq_len), dtype=torch.long)\n",
    "            lora_indices = torch.randint(num_loras, (bs,), dtype=torch.long)\n",
    "\n",
    "            # measure the end-to-end latency for generating a single token\n",
    "            t0 = time.time()\n",
    "            next_token = generate_token(\n",
    "                model=model,\n",
    "                input_ids=input_ids,\n",
    "                loras_a=loras_a,\n",
    "                loras_b=loras_b,\n",
    "                lora_indices=lora_indices\n",
    "            )\n",
    "            latencies.append(time.time() - t0)\n",
    "        \n",
    "        # average the latency across all the samples\n",
    "        latency_s = sum(latencies)/nsamples\n",
    "        avg_latencies.append(latency_s)\n",
    "        print(f\"Batch size: {bs} :: Avergae latency: {latency_s}\")\n",
    "    \n",
    "    return avg_latencies\n"
   ]
  },
  {
   "cell_type": "code",
   "execution_count": 14,
   "id": "fa608ece",
   "metadata": {},
   "outputs": [
    {
     "name": "stdout",
     "output_type": "stream",
     "text": [
      "Batch size: 1 :: Avergae latency: 7.744932174682617e-05\n",
      "Batch size: 2 :: Avergae latency: 5.34367561340332e-05\n",
      "Batch size: 3 :: Avergae latency: 6.0360431671142575e-05\n",
      "Batch size: 4 :: Avergae latency: 6.842803955078125e-05\n",
      "Batch size: 5 :: Avergae latency: 7.538032531738281e-05\n",
      "Batch size: 6 :: Avergae latency: 8.864879608154297e-05\n",
      "Batch size: 7 :: Avergae latency: 9.055566787719726e-05\n",
      "Batch size: 8 :: Avergae latency: 0.00011149120330810547\n",
      "Batch size: 9 :: Avergae latency: 0.00010928249359130859\n",
      "Batch size: 10 :: Avergae latency: 0.00011791038513183594\n",
      "Batch size: 11 :: Avergae latency: 0.00013134479522705078\n",
      "Batch size: 12 :: Avergae latency: 0.0001280808448791504\n",
      "Batch size: 13 :: Avergae latency: 0.00013814306259155273\n",
      "Batch size: 14 :: Avergae latency: 0.00015583086013793945\n",
      "Batch size: 15 :: Avergae latency: 0.00016645145416259766\n",
      "Batch size: 16 :: Avergae latency: 0.00016998910903930664\n",
      "Batch size: 17 :: Avergae latency: 0.00018472671508789061\n",
      "Batch size: 18 :: Avergae latency: 0.000190732479095459\n",
      "Batch size: 19 :: Avergae latency: 0.00019828271865844727\n",
      "Batch size: 20 :: Avergae latency: 0.00021918010711669922\n",
      "Batch size: 21 :: Avergae latency: 0.00022511625289916993\n",
      "Batch size: 22 :: Avergae latency: 0.00023381757736206055\n",
      "Batch size: 23 :: Avergae latency: 0.00023308134078979493\n",
      "Batch size: 24 :: Avergae latency: 0.0002461380958557129\n",
      "Batch size: 25 :: Avergae latency: 0.0002572660446166992\n",
      "Batch size: 26 :: Avergae latency: 0.0002710127830505371\n",
      "Batch size: 27 :: Avergae latency: 0.0002686200141906738\n",
      "Batch size: 28 :: Avergae latency: 0.0002853951454162598\n",
      "Batch size: 29 :: Avergae latency: 0.0002845621109008789\n",
      "Batch size: 30 :: Avergae latency: 0.00029718399047851563\n",
      "Batch size: 31 :: Avergae latency: 0.00030237627029418946\n",
      "Batch size: 32 :: Avergae latency: 0.0003211174011230469\n",
      "Batch size: 33 :: Avergae latency: 0.00032214832305908206\n",
      "Batch size: 34 :: Avergae latency: 0.00033474016189575194\n",
      "Batch size: 35 :: Avergae latency: 0.00033434391021728514\n",
      "Batch size: 36 :: Avergae latency: 0.0003544139862060547\n",
      "Batch size: 37 :: Avergae latency: 0.00036570072174072263\n",
      "Batch size: 38 :: Avergae latency: 0.0003827729225158691\n",
      "Batch size: 39 :: Avergae latency: 0.0003828134536743164\n",
      "Batch size: 40 :: Avergae latency: 0.0003970623016357422\n",
      "Batch size: 41 :: Avergae latency: 0.0004062356948852539\n",
      "Batch size: 42 :: Avergae latency: 0.00041120195388793943\n",
      "Batch size: 43 :: Avergae latency: 0.00042167043685913087\n",
      "Batch size: 44 :: Avergae latency: 0.0004317865371704102\n",
      "Batch size: 45 :: Avergae latency: 0.0004414668083190918\n",
      "Batch size: 46 :: Avergae latency: 0.0004588642120361328\n",
      "Batch size: 47 :: Avergae latency: 0.0004533200263977051\n",
      "Batch size: 48 :: Avergae latency: 0.0004683675765991211\n",
      "Batch size: 49 :: Avergae latency: 0.00047252988815307616\n",
      "Batch size: 50 :: Avergae latency: 0.0004822983741760254\n",
      "Batch size: 51 :: Avergae latency: 0.0004910836219787597\n",
      "Batch size: 52 :: Avergae latency: 0.0004984650611877441\n",
      "Batch size: 53 :: Avergae latency: 0.0005067143440246582\n",
      "Batch size: 54 :: Avergae latency: 0.0005173492431640625\n",
      "Batch size: 55 :: Avergae latency: 0.000527853012084961\n",
      "Batch size: 56 :: Avergae latency: 0.0005353460311889648\n",
      "Batch size: 57 :: Avergae latency: 0.0005448317527770996\n",
      "Batch size: 58 :: Avergae latency: 0.0005518355369567871\n",
      "Batch size: 59 :: Avergae latency: 0.0005603199005126953\n",
      "Batch size: 60 :: Avergae latency: 0.0005736980438232422\n",
      "Batch size: 61 :: Avergae latency: 0.0005871391296386718\n",
      "Batch size: 62 :: Avergae latency: 0.0005865631103515625\n",
      "Batch size: 63 :: Avergae latency: 0.000598649024963379\n",
      "Batch size: 64 :: Avergae latency: 0.0006000180244445801\n"
     ]
    }
   ],
   "source": [
    "avg_latencies_loop = benchmark(model=model)"
   ]
  },
  {
   "cell_type": "markdown",
   "id": "3d2728e3",
   "metadata": {},
   "source": [
    "### Let's visualize it!\n",
    "\n",
    "**Note**: Your plot may vary slightly from the one shown in the video, yet it will exhibit a similar pattern."
   ]
  },
  {
   "cell_type": "code",
   "execution_count": 16,
   "id": "78ad893b",
   "metadata": {},
   "outputs": [],
   "source": [
    "!mkdir ./output"
   ]
  },
  {
   "cell_type": "code",
   "execution_count": 18,
   "id": "cf090e63",
   "metadata": {},
   "outputs": [
    {
     "data": {
      "image/png": "[encoded data removed]",
      "text/plain": [
       "<Figure size 640x480 with 1 Axes>"
      ]
     },
     "metadata": {},
     "output_type": "display_data"
    }
   ],
   "source": [
    "x = list(range(1, max_batch_size+1))\n",
    "plt.plot(x, avg_latencies_loop, label=\"loop\")\n",
    "plt.xlabel(\"Batch Size\")\n",
    "plt.ylabel(\"Avg Latency (sec)\")\n",
    "plt.title(\"Multi-LoRA (Loop) latency w.r.t. batch size\")\n",
    "plt.legend()\n",
    "plt.savefig(\"./output/loop_multi_lora_latency.png\")\n",
    "plt.show()"
   ]
  },
  {
   "cell_type": "markdown",
   "id": "4147bb85",
   "metadata": {},
   "source": [
    "### Let's vectorize the LoRA computation\n",
    "\n",
    "We will vectorize the LoRA computation by:\n",
    "\n",
    "1. Gather the LoRA weight for each batch into a single tensor using `torch.index_select`.\n",
    "2. Apply LoRA computation once for the entire input tensor."
   ]
  },
  {
   "cell_type": "code",
   "execution_count": 22,
   "id": "a892d05c",
   "metadata": {},
   "outputs": [],
   "source": [
    "class GatheredMultiLoraModel(AbstractMultiLoraModel):\n",
    "    def linear_lora(\n",
    "            self,\n",
    "            x: torch.Tensor,                      # (batch_size, seq_len, in_features)\n",
    "            loras_a: torch.Tensor,                # (num_loras, in_features, lora_rank)\n",
    "            loras_b: torch.Tensor,                # (num_loras. lora_rank, out_features)\n",
    "            lora_indices: torch.LongTensor        # (batch_size,)\n",
    "    ) -> torch.Tensor:          \n",
    "        y = self.linear(x)\n",
    "\n",
    "        # gather LoRA weights into a tensor and apply\n",
    "        lora_a = torch.index_select(loras_a, dim=0, index=lora_indices) # (batch_size, in_features, lora_rank)\n",
    "        lora_b = torch.index_select(loras_b, dim=0, index=lora_indices) # (batch_size, lora_rank, out_features)\n",
    "\n",
    "        y += x @ lora_a @ lora_b\n",
    "\n",
    "        return y"
   ]
  },
  {
   "cell_type": "code",
   "execution_count": 23,
   "id": "72d0ae2d",
   "metadata": {},
   "outputs": [],
   "source": [
    "model = GatheredMultiLoraModel()"
   ]
  },
  {
   "cell_type": "code",
   "execution_count": 24,
   "id": "9027205e",
   "metadata": {},
   "outputs": [
    {
     "name": "stdout",
     "output_type": "stream",
     "text": [
      "Batch size: 1 :: Avergae latency: 0.00010318326950073242\n",
      "Batch size: 2 :: Avergae latency: 9.309196472167969e-05\n",
      "Batch size: 3 :: Avergae latency: 5.585050582885742e-05\n",
      "Batch size: 4 :: Avergae latency: 6.0897350311279296e-05\n",
      "Batch size: 5 :: Avergae latency: 7.913446426391601e-05\n",
      "Batch size: 6 :: Avergae latency: 7.99117088317871e-05\n",
      "Batch size: 7 :: Avergae latency: 8.704328536987305e-05\n",
      "Batch size: 8 :: Avergae latency: 6.149196624755859e-05\n",
      "Batch size: 9 :: Avergae latency: 7.39893913269043e-05\n",
      "Batch size: 10 :: Avergae latency: 8.330821990966797e-05\n",
      "Batch size: 11 :: Avergae latency: 6.1920166015625e-05\n",
      "Batch size: 12 :: Avergae latency: 8.335685729980469e-05\n",
      "Batch size: 13 :: Avergae latency: 7.505130767822266e-05\n",
      "Batch size: 14 :: Avergae latency: 6.79926872253418e-05\n",
      "Batch size: 15 :: Avergae latency: 8.286619186401367e-05\n",
      "Batch size: 16 :: Avergae latency: 6.829261779785156e-05\n",
      "Batch size: 17 :: Avergae latency: 8.790922164916993e-05\n",
      "Batch size: 18 :: Avergae latency: 7.99570083618164e-05\n",
      "Batch size: 19 :: Avergae latency: 0.00012341976165771484\n",
      "Batch size: 20 :: Avergae latency: 8.84995460510254e-05\n",
      "Batch size: 21 :: Avergae latency: 0.00011254644393920898\n",
      "Batch size: 22 :: Avergae latency: 0.00011748123168945313\n",
      "Batch size: 23 :: Avergae latency: 0.00011786174774169922\n",
      "Batch size: 24 :: Avergae latency: 0.00012461090087890624\n",
      "Batch size: 25 :: Avergae latency: 9.571647644042969e-05\n",
      "Batch size: 26 :: Avergae latency: 0.00010596370697021485\n",
      "Batch size: 27 :: Avergae latency: 0.00019183731079101563\n",
      "Batch size: 28 :: Avergae latency: 0.00013277101516723632\n",
      "Batch size: 29 :: Avergae latency: 0.00014314222335815428\n",
      "Batch size: 30 :: Avergae latency: 0.00010493087768554688\n",
      "Batch size: 31 :: Avergae latency: 9.053707122802735e-05\n",
      "Batch size: 32 :: Avergae latency: 0.00012059354782104492\n",
      "Batch size: 33 :: Avergae latency: 0.00013199520111083985\n",
      "Batch size: 34 :: Avergae latency: 0.00013899612426757812\n",
      "Batch size: 35 :: Avergae latency: 0.00012437725067138673\n",
      "Batch size: 36 :: Avergae latency: 0.00015518999099731445\n",
      "Batch size: 37 :: Avergae latency: 0.0001541280746459961\n",
      "Batch size: 38 :: Avergae latency: 0.00014321231842041017\n",
      "Batch size: 39 :: Avergae latency: 0.00012644004821777343\n",
      "Batch size: 40 :: Avergae latency: 0.00014153432846069337\n",
      "Batch size: 41 :: Avergae latency: 0.00011914539337158204\n",
      "Batch size: 42 :: Avergae latency: 0.00013623809814453124\n",
      "Batch size: 43 :: Avergae latency: 0.0001411733627319336\n",
      "Batch size: 44 :: Avergae latency: 0.00011885499954223633\n",
      "Batch size: 45 :: Avergae latency: 0.00012506580352783202\n",
      "Batch size: 46 :: Avergae latency: 0.000137418270111084\n",
      "Batch size: 47 :: Avergae latency: 0.00011354303359985351\n",
      "Batch size: 48 :: Avergae latency: 0.0001319441795349121\n",
      "Batch size: 49 :: Avergae latency: 0.00013171911239624024\n",
      "Batch size: 50 :: Avergae latency: 0.00018456459045410156\n",
      "Batch size: 51 :: Avergae latency: 0.0001669774055480957\n",
      "Batch size: 52 :: Avergae latency: 0.00014400577545166016\n",
      "Batch size: 53 :: Avergae latency: 0.0001527848243713379\n",
      "Batch size: 54 :: Avergae latency: 0.00016086959838867187\n",
      "Batch size: 55 :: Avergae latency: 0.00016652297973632812\n",
      "Batch size: 56 :: Avergae latency: 0.00016373014450073243\n",
      "Batch size: 57 :: Avergae latency: 0.00013739681243896484\n",
      "Batch size: 58 :: Avergae latency: 0.00014066362380981445\n",
      "Batch size: 59 :: Avergae latency: 0.00018145370483398438\n",
      "Batch size: 60 :: Avergae latency: 0.0001467294692993164\n",
      "Batch size: 61 :: Avergae latency: 0.0001815986633300781\n",
      "Batch size: 62 :: Avergae latency: 0.00017371034622192384\n",
      "Batch size: 63 :: Avergae latency: 0.0001768922805786133\n",
      "Batch size: 64 :: Avergae latency: 0.0001799178123474121\n"
     ]
    }
   ],
   "source": [
    "avg_latencies_gathered = benchmark(model=model)"
   ]
  },
  {
   "cell_type": "markdown",
   "id": "0d6afcc1",
   "metadata": {},
   "source": [
    "### Let's visualize it!\n",
    "\n",
    "**Note**: Your plot may vary slightly from the one shown in the video, yet it will exhibit a similar pattern."
   ]
  },
  {
   "cell_type": "code",
   "execution_count": 25,
   "id": "b051b0ba",
   "metadata": {},
   "outputs": [
    {
     "data": {
      "image/png": "[encoded data removed]",
      "text/plain": [
       "<Figure size 640x480 with 1 Axes>"
      ]
     },
     "metadata": {},
     "output_type": "display_data"
    }
   ],
   "source": [
    "x = list(range(1, max_batch_size+1))\n",
    "\n",
    "plt.plot(x, avg_latencies_loop, label=\"loop\")\n",
    "plt.plot(x, avg_latencies_gathered, label=\"gathered\")\n",
    "\n",
    "plt.xlabel(\"Batch Size\")\n",
    "plt.ylabel(\"Avg Latency (sec)\")\n",
    "plt.title(\"Multi-LoRA latency w.r.t. batch size\")\n",
    "plt.legend()\n",
    "\n",
    "plt.savefig(\"./output/multi_lora_latency.png\")\n",
    "\n",
    "plt.show()"
   ]
  }
 ],
 "metadata": {
  "kernelspec": {
   "display_name": "py3_efficiently_serving_llms_course",
   "language": "python",
   "name": "python3"
  },
  "language_info": {
   "codemirror_mode": {
    "name": "ipython",
    "version": 3
   },
   "file_extension": ".py",
   "mimetype": "text/x-python",
   "name": "python",
   "nbconvert_exporter": "python",
   "pygments_lexer": "ipython3",
   "version": "3.11.11"
  }
 },
 "nbformat": 4,
 "nbformat_minor": 5
}
